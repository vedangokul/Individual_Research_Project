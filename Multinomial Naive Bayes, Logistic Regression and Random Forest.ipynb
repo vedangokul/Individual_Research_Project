{
 "cells": [
  {
   "cell_type": "code",
   "execution_count": 1,
   "id": "709fddae",
   "metadata": {},
   "outputs": [],
   "source": [
    "import wikipediaapi"
   ]
  },
  {
   "cell_type": "code",
   "execution_count": 2,
   "id": "3c289318",
   "metadata": {},
   "outputs": [],
   "source": [
    "import wikipedia\n",
    "import warnings\n",
    "warnings.filterwarnings(action=\"ignore\")\n"
   ]
  },
  {
   "cell_type": "code",
   "execution_count": 3,
   "id": "25293af6",
   "metadata": {},
   "outputs": [],
   "source": [
    "wiki_wiki = wikipediaapi.Wikipedia(\n",
    "        language='en',\n",
    "        extract_format=wikipediaapi.ExtractFormat.WIKI\n",
    ")"
   ]
  },
  {
   "cell_type": "code",
   "execution_count": 4,
   "id": "c2ecbd58",
   "metadata": {},
   "outputs": [],
   "source": [
    "fmathematics={}\n",
    "for items in wikipedia.search('Mathematics', results=500):\n",
    "         fmathematics[items]= wiki_wiki.page(items).text"
   ]
  },
  {
   "cell_type": "code",
   "execution_count": 5,
   "id": "b3f96f4a",
   "metadata": {},
   "outputs": [
    {
     "ename": "KeyboardInterrupt",
     "evalue": "",
     "output_type": "error",
     "traceback": [
      "\u001b[1;31m---------------------------------------------------------------------------\u001b[0m",
      "\u001b[1;31mKeyboardInterrupt\u001b[0m                         Traceback (most recent call last)",
      "\u001b[1;32m<ipython-input-5-231cde71f77b>\u001b[0m in \u001b[0;36m<module>\u001b[1;34m\u001b[0m\n\u001b[0;32m      1\u001b[0m \u001b[0mfpolitics\u001b[0m\u001b[1;33m=\u001b[0m\u001b[1;33m{\u001b[0m\u001b[1;33m}\u001b[0m\u001b[1;33m\u001b[0m\u001b[1;33m\u001b[0m\u001b[0m\n\u001b[0;32m      2\u001b[0m \u001b[1;32mfor\u001b[0m \u001b[0mitems\u001b[0m \u001b[1;32min\u001b[0m \u001b[0mwikipedia\u001b[0m\u001b[1;33m.\u001b[0m\u001b[0msearch\u001b[0m\u001b[1;33m(\u001b[0m\u001b[1;34m'Politics'\u001b[0m\u001b[1;33m,\u001b[0m \u001b[0mresults\u001b[0m\u001b[1;33m=\u001b[0m\u001b[1;36m500\u001b[0m\u001b[1;33m)\u001b[0m\u001b[1;33m:\u001b[0m\u001b[1;33m\u001b[0m\u001b[1;33m\u001b[0m\u001b[0m\n\u001b[1;32m----> 3\u001b[1;33m          \u001b[0mfpolitics\u001b[0m\u001b[1;33m[\u001b[0m\u001b[0mitems\u001b[0m\u001b[1;33m]\u001b[0m\u001b[1;33m=\u001b[0m \u001b[0mwiki_wiki\u001b[0m\u001b[1;33m.\u001b[0m\u001b[0mpage\u001b[0m\u001b[1;33m(\u001b[0m\u001b[0mitems\u001b[0m\u001b[1;33m)\u001b[0m\u001b[1;33m.\u001b[0m\u001b[0mtext\u001b[0m\u001b[1;33m\u001b[0m\u001b[1;33m\u001b[0m\u001b[0m\n\u001b[0m",
      "\u001b[1;32m~\\anaconda3\\lib\\site-packages\\wikipediaapi\\__init__.py\u001b[0m in \u001b[0;36mtext\u001b[1;34m(self)\u001b[0m\n\u001b[0;32m   1058\u001b[0m         \u001b[1;33m:\u001b[0m\u001b[1;32mreturn\u001b[0m\u001b[1;33m:\u001b[0m \u001b[0mtext\u001b[0m \u001b[0mof\u001b[0m \u001b[0mthe\u001b[0m \u001b[0mcurrent\u001b[0m \u001b[0mpage\u001b[0m\u001b[1;33m\u001b[0m\u001b[1;33m\u001b[0m\u001b[0m\n\u001b[0;32m   1059\u001b[0m         \"\"\"\n\u001b[1;32m-> 1060\u001b[1;33m         \u001b[0mtxt\u001b[0m \u001b[1;33m=\u001b[0m \u001b[0mself\u001b[0m\u001b[1;33m.\u001b[0m\u001b[0msummary\u001b[0m\u001b[1;33m\u001b[0m\u001b[1;33m\u001b[0m\u001b[0m\n\u001b[0m\u001b[0;32m   1061\u001b[0m         \u001b[1;32mif\u001b[0m \u001b[0mlen\u001b[0m\u001b[1;33m(\u001b[0m\u001b[0mtxt\u001b[0m\u001b[1;33m)\u001b[0m \u001b[1;33m>\u001b[0m \u001b[1;36m0\u001b[0m\u001b[1;33m:\u001b[0m\u001b[1;33m\u001b[0m\u001b[1;33m\u001b[0m\u001b[0m\n\u001b[0;32m   1062\u001b[0m             \u001b[0mtxt\u001b[0m \u001b[1;33m+=\u001b[0m \u001b[1;34m\"\\n\\n\"\u001b[0m\u001b[1;33m\u001b[0m\u001b[1;33m\u001b[0m\u001b[0m\n",
      "\u001b[1;32m~\\anaconda3\\lib\\site-packages\\wikipediaapi\\__init__.py\u001b[0m in \u001b[0;36msummary\u001b[1;34m(self)\u001b[0m\n\u001b[0;32m   1023\u001b[0m         \"\"\"\n\u001b[0;32m   1024\u001b[0m         \u001b[1;32mif\u001b[0m \u001b[1;32mnot\u001b[0m \u001b[0mself\u001b[0m\u001b[1;33m.\u001b[0m\u001b[0m_called\u001b[0m\u001b[1;33m[\u001b[0m\u001b[1;34m'extracts'\u001b[0m\u001b[1;33m]\u001b[0m\u001b[1;33m:\u001b[0m\u001b[1;33m\u001b[0m\u001b[1;33m\u001b[0m\u001b[0m\n\u001b[1;32m-> 1025\u001b[1;33m             \u001b[0mself\u001b[0m\u001b[1;33m.\u001b[0m\u001b[0m_fetch\u001b[0m\u001b[1;33m(\u001b[0m\u001b[1;34m'extracts'\u001b[0m\u001b[1;33m)\u001b[0m\u001b[1;33m\u001b[0m\u001b[1;33m\u001b[0m\u001b[0m\n\u001b[0m\u001b[0;32m   1026\u001b[0m         \u001b[1;32mreturn\u001b[0m \u001b[0mself\u001b[0m\u001b[1;33m.\u001b[0m\u001b[0m_summary\u001b[0m\u001b[1;33m\u001b[0m\u001b[1;33m\u001b[0m\u001b[0m\n\u001b[0;32m   1027\u001b[0m \u001b[1;33m\u001b[0m\u001b[0m\n",
      "\u001b[1;32m~\\anaconda3\\lib\\site-packages\\wikipediaapi\\__init__.py\u001b[0m in \u001b[0;36m_fetch\u001b[1;34m(self, call)\u001b[0m\n\u001b[0;32m   1146\u001b[0m \u001b[1;33m\u001b[0m\u001b[0m\n\u001b[0;32m   1147\u001b[0m     \u001b[1;32mdef\u001b[0m \u001b[0m_fetch\u001b[0m\u001b[1;33m(\u001b[0m\u001b[0mself\u001b[0m\u001b[1;33m,\u001b[0m \u001b[0mcall\u001b[0m\u001b[1;33m)\u001b[0m \u001b[1;33m->\u001b[0m \u001b[1;34m'WikipediaPage'\u001b[0m\u001b[1;33m:\u001b[0m\u001b[1;33m\u001b[0m\u001b[1;33m\u001b[0m\u001b[0m\n\u001b[1;32m-> 1148\u001b[1;33m         \u001b[0mgetattr\u001b[0m\u001b[1;33m(\u001b[0m\u001b[0mself\u001b[0m\u001b[1;33m.\u001b[0m\u001b[0mwiki\u001b[0m\u001b[1;33m,\u001b[0m \u001b[0mcall\u001b[0m\u001b[1;33m)\u001b[0m\u001b[1;33m(\u001b[0m\u001b[0mself\u001b[0m\u001b[1;33m)\u001b[0m\u001b[1;33m\u001b[0m\u001b[1;33m\u001b[0m\u001b[0m\n\u001b[0m\u001b[0;32m   1149\u001b[0m         \u001b[0mself\u001b[0m\u001b[1;33m.\u001b[0m\u001b[0m_called\u001b[0m\u001b[1;33m[\u001b[0m\u001b[0mcall\u001b[0m\u001b[1;33m]\u001b[0m \u001b[1;33m=\u001b[0m \u001b[1;32mTrue\u001b[0m\u001b[1;33m\u001b[0m\u001b[1;33m\u001b[0m\u001b[0m\n\u001b[0;32m   1150\u001b[0m         \u001b[1;32mreturn\u001b[0m \u001b[0mself\u001b[0m\u001b[1;33m\u001b[0m\u001b[1;33m\u001b[0m\u001b[0m\n",
      "\u001b[1;32m~\\anaconda3\\lib\\site-packages\\wikipediaapi\\__init__.py\u001b[0m in \u001b[0;36mextracts\u001b[1;34m(self, page, **kwargs)\u001b[0m\n\u001b[0;32m    283\u001b[0m         \u001b[0mused_params\u001b[0m\u001b[1;33m.\u001b[0m\u001b[0mupdate\u001b[0m\u001b[1;33m(\u001b[0m\u001b[0mparams\u001b[0m\u001b[1;33m)\u001b[0m\u001b[1;33m\u001b[0m\u001b[1;33m\u001b[0m\u001b[0m\n\u001b[0;32m    284\u001b[0m \u001b[1;33m\u001b[0m\u001b[0m\n\u001b[1;32m--> 285\u001b[1;33m         raw = self._query(\n\u001b[0m\u001b[0;32m    286\u001b[0m             \u001b[0mpage\u001b[0m\u001b[1;33m,\u001b[0m\u001b[1;33m\u001b[0m\u001b[1;33m\u001b[0m\u001b[0m\n\u001b[0;32m    287\u001b[0m             \u001b[0mused_params\u001b[0m\u001b[1;33m\u001b[0m\u001b[1;33m\u001b[0m\u001b[0m\n",
      "\u001b[1;32m~\\anaconda3\\lib\\site-packages\\wikipediaapi\\__init__.py\u001b[0m in \u001b[0;36m_query\u001b[1;34m(self, page, params)\u001b[0m\n\u001b[0;32m    578\u001b[0m         \u001b[0mparams\u001b[0m\u001b[1;33m[\u001b[0m\u001b[1;34m'format'\u001b[0m\u001b[1;33m]\u001b[0m \u001b[1;33m=\u001b[0m \u001b[1;34m'json'\u001b[0m\u001b[1;33m\u001b[0m\u001b[1;33m\u001b[0m\u001b[0m\n\u001b[0;32m    579\u001b[0m         \u001b[0mparams\u001b[0m\u001b[1;33m[\u001b[0m\u001b[1;34m'redirects'\u001b[0m\u001b[1;33m]\u001b[0m \u001b[1;33m=\u001b[0m \u001b[1;36m1\u001b[0m\u001b[1;33m\u001b[0m\u001b[1;33m\u001b[0m\u001b[0m\n\u001b[1;32m--> 580\u001b[1;33m         r = self._session.get(\n\u001b[0m\u001b[0;32m    581\u001b[0m             \u001b[0mbase_url\u001b[0m\u001b[1;33m,\u001b[0m\u001b[1;33m\u001b[0m\u001b[1;33m\u001b[0m\u001b[0m\n\u001b[0;32m    582\u001b[0m             \u001b[0mparams\u001b[0m\u001b[1;33m=\u001b[0m\u001b[0mparams\u001b[0m\u001b[1;33m,\u001b[0m\u001b[1;33m\u001b[0m\u001b[1;33m\u001b[0m\u001b[0m\n",
      "\u001b[1;32m~\\anaconda3\\lib\\site-packages\\requests\\sessions.py\u001b[0m in \u001b[0;36mget\u001b[1;34m(self, url, **kwargs)\u001b[0m\n\u001b[0;32m    553\u001b[0m \u001b[1;33m\u001b[0m\u001b[0m\n\u001b[0;32m    554\u001b[0m         \u001b[0mkwargs\u001b[0m\u001b[1;33m.\u001b[0m\u001b[0msetdefault\u001b[0m\u001b[1;33m(\u001b[0m\u001b[1;34m'allow_redirects'\u001b[0m\u001b[1;33m,\u001b[0m \u001b[1;32mTrue\u001b[0m\u001b[1;33m)\u001b[0m\u001b[1;33m\u001b[0m\u001b[1;33m\u001b[0m\u001b[0m\n\u001b[1;32m--> 555\u001b[1;33m         \u001b[1;32mreturn\u001b[0m \u001b[0mself\u001b[0m\u001b[1;33m.\u001b[0m\u001b[0mrequest\u001b[0m\u001b[1;33m(\u001b[0m\u001b[1;34m'GET'\u001b[0m\u001b[1;33m,\u001b[0m \u001b[0murl\u001b[0m\u001b[1;33m,\u001b[0m \u001b[1;33m**\u001b[0m\u001b[0mkwargs\u001b[0m\u001b[1;33m)\u001b[0m\u001b[1;33m\u001b[0m\u001b[1;33m\u001b[0m\u001b[0m\n\u001b[0m\u001b[0;32m    556\u001b[0m \u001b[1;33m\u001b[0m\u001b[0m\n\u001b[0;32m    557\u001b[0m     \u001b[1;32mdef\u001b[0m \u001b[0moptions\u001b[0m\u001b[1;33m(\u001b[0m\u001b[0mself\u001b[0m\u001b[1;33m,\u001b[0m \u001b[0murl\u001b[0m\u001b[1;33m,\u001b[0m \u001b[1;33m**\u001b[0m\u001b[0mkwargs\u001b[0m\u001b[1;33m)\u001b[0m\u001b[1;33m:\u001b[0m\u001b[1;33m\u001b[0m\u001b[1;33m\u001b[0m\u001b[0m\n",
      "\u001b[1;32m~\\anaconda3\\lib\\site-packages\\requests\\sessions.py\u001b[0m in \u001b[0;36mrequest\u001b[1;34m(self, method, url, params, data, headers, cookies, files, auth, timeout, allow_redirects, proxies, hooks, stream, verify, cert, json)\u001b[0m\n\u001b[0;32m    540\u001b[0m         }\n\u001b[0;32m    541\u001b[0m         \u001b[0msend_kwargs\u001b[0m\u001b[1;33m.\u001b[0m\u001b[0mupdate\u001b[0m\u001b[1;33m(\u001b[0m\u001b[0msettings\u001b[0m\u001b[1;33m)\u001b[0m\u001b[1;33m\u001b[0m\u001b[1;33m\u001b[0m\u001b[0m\n\u001b[1;32m--> 542\u001b[1;33m         \u001b[0mresp\u001b[0m \u001b[1;33m=\u001b[0m \u001b[0mself\u001b[0m\u001b[1;33m.\u001b[0m\u001b[0msend\u001b[0m\u001b[1;33m(\u001b[0m\u001b[0mprep\u001b[0m\u001b[1;33m,\u001b[0m \u001b[1;33m**\u001b[0m\u001b[0msend_kwargs\u001b[0m\u001b[1;33m)\u001b[0m\u001b[1;33m\u001b[0m\u001b[1;33m\u001b[0m\u001b[0m\n\u001b[0m\u001b[0;32m    543\u001b[0m \u001b[1;33m\u001b[0m\u001b[0m\n\u001b[0;32m    544\u001b[0m         \u001b[1;32mreturn\u001b[0m \u001b[0mresp\u001b[0m\u001b[1;33m\u001b[0m\u001b[1;33m\u001b[0m\u001b[0m\n",
      "\u001b[1;32m~\\anaconda3\\lib\\site-packages\\requests\\sessions.py\u001b[0m in \u001b[0;36msend\u001b[1;34m(self, request, **kwargs)\u001b[0m\n\u001b[0;32m    653\u001b[0m \u001b[1;33m\u001b[0m\u001b[0m\n\u001b[0;32m    654\u001b[0m         \u001b[1;31m# Send the request\u001b[0m\u001b[1;33m\u001b[0m\u001b[1;33m\u001b[0m\u001b[1;33m\u001b[0m\u001b[0m\n\u001b[1;32m--> 655\u001b[1;33m         \u001b[0mr\u001b[0m \u001b[1;33m=\u001b[0m \u001b[0madapter\u001b[0m\u001b[1;33m.\u001b[0m\u001b[0msend\u001b[0m\u001b[1;33m(\u001b[0m\u001b[0mrequest\u001b[0m\u001b[1;33m,\u001b[0m \u001b[1;33m**\u001b[0m\u001b[0mkwargs\u001b[0m\u001b[1;33m)\u001b[0m\u001b[1;33m\u001b[0m\u001b[1;33m\u001b[0m\u001b[0m\n\u001b[0m\u001b[0;32m    656\u001b[0m \u001b[1;33m\u001b[0m\u001b[0m\n\u001b[0;32m    657\u001b[0m         \u001b[1;31m# Total elapsed time of the request (approximately)\u001b[0m\u001b[1;33m\u001b[0m\u001b[1;33m\u001b[0m\u001b[1;33m\u001b[0m\u001b[0m\n",
      "\u001b[1;32m~\\anaconda3\\lib\\site-packages\\requests\\adapters.py\u001b[0m in \u001b[0;36msend\u001b[1;34m(self, request, stream, timeout, verify, cert, proxies)\u001b[0m\n\u001b[0;32m    437\u001b[0m         \u001b[1;32mtry\u001b[0m\u001b[1;33m:\u001b[0m\u001b[1;33m\u001b[0m\u001b[1;33m\u001b[0m\u001b[0m\n\u001b[0;32m    438\u001b[0m             \u001b[1;32mif\u001b[0m \u001b[1;32mnot\u001b[0m \u001b[0mchunked\u001b[0m\u001b[1;33m:\u001b[0m\u001b[1;33m\u001b[0m\u001b[1;33m\u001b[0m\u001b[0m\n\u001b[1;32m--> 439\u001b[1;33m                 resp = conn.urlopen(\n\u001b[0m\u001b[0;32m    440\u001b[0m                     \u001b[0mmethod\u001b[0m\u001b[1;33m=\u001b[0m\u001b[0mrequest\u001b[0m\u001b[1;33m.\u001b[0m\u001b[0mmethod\u001b[0m\u001b[1;33m,\u001b[0m\u001b[1;33m\u001b[0m\u001b[1;33m\u001b[0m\u001b[0m\n\u001b[0;32m    441\u001b[0m                     \u001b[0murl\u001b[0m\u001b[1;33m=\u001b[0m\u001b[0murl\u001b[0m\u001b[1;33m,\u001b[0m\u001b[1;33m\u001b[0m\u001b[1;33m\u001b[0m\u001b[0m\n",
      "\u001b[1;32m~\\anaconda3\\lib\\site-packages\\urllib3\\connectionpool.py\u001b[0m in \u001b[0;36murlopen\u001b[1;34m(self, method, url, body, headers, retries, redirect, assert_same_host, timeout, pool_timeout, release_conn, chunked, body_pos, **response_kw)\u001b[0m\n\u001b[0;32m    697\u001b[0m \u001b[1;33m\u001b[0m\u001b[0m\n\u001b[0;32m    698\u001b[0m             \u001b[1;31m# Make the request on the httplib connection object.\u001b[0m\u001b[1;33m\u001b[0m\u001b[1;33m\u001b[0m\u001b[1;33m\u001b[0m\u001b[0m\n\u001b[1;32m--> 699\u001b[1;33m             httplib_response = self._make_request(\n\u001b[0m\u001b[0;32m    700\u001b[0m                 \u001b[0mconn\u001b[0m\u001b[1;33m,\u001b[0m\u001b[1;33m\u001b[0m\u001b[1;33m\u001b[0m\u001b[0m\n\u001b[0;32m    701\u001b[0m                 \u001b[0mmethod\u001b[0m\u001b[1;33m,\u001b[0m\u001b[1;33m\u001b[0m\u001b[1;33m\u001b[0m\u001b[0m\n",
      "\u001b[1;32m~\\anaconda3\\lib\\site-packages\\urllib3\\connectionpool.py\u001b[0m in \u001b[0;36m_make_request\u001b[1;34m(self, conn, method, url, timeout, chunked, **httplib_request_kw)\u001b[0m\n\u001b[0;32m    443\u001b[0m                     \u001b[1;31m# Python 3 (including for exceptions like SystemExit).\u001b[0m\u001b[1;33m\u001b[0m\u001b[1;33m\u001b[0m\u001b[1;33m\u001b[0m\u001b[0m\n\u001b[0;32m    444\u001b[0m                     \u001b[1;31m# Otherwise it looks like a bug in the code.\u001b[0m\u001b[1;33m\u001b[0m\u001b[1;33m\u001b[0m\u001b[1;33m\u001b[0m\u001b[0m\n\u001b[1;32m--> 445\u001b[1;33m                     \u001b[0msix\u001b[0m\u001b[1;33m.\u001b[0m\u001b[0mraise_from\u001b[0m\u001b[1;33m(\u001b[0m\u001b[0me\u001b[0m\u001b[1;33m,\u001b[0m \u001b[1;32mNone\u001b[0m\u001b[1;33m)\u001b[0m\u001b[1;33m\u001b[0m\u001b[1;33m\u001b[0m\u001b[0m\n\u001b[0m\u001b[0;32m    446\u001b[0m         \u001b[1;32mexcept\u001b[0m \u001b[1;33m(\u001b[0m\u001b[0mSocketTimeout\u001b[0m\u001b[1;33m,\u001b[0m \u001b[0mBaseSSLError\u001b[0m\u001b[1;33m,\u001b[0m \u001b[0mSocketError\u001b[0m\u001b[1;33m)\u001b[0m \u001b[1;32mas\u001b[0m \u001b[0me\u001b[0m\u001b[1;33m:\u001b[0m\u001b[1;33m\u001b[0m\u001b[1;33m\u001b[0m\u001b[0m\n\u001b[0;32m    447\u001b[0m             \u001b[0mself\u001b[0m\u001b[1;33m.\u001b[0m\u001b[0m_raise_timeout\u001b[0m\u001b[1;33m(\u001b[0m\u001b[0merr\u001b[0m\u001b[1;33m=\u001b[0m\u001b[0me\u001b[0m\u001b[1;33m,\u001b[0m \u001b[0murl\u001b[0m\u001b[1;33m=\u001b[0m\u001b[0murl\u001b[0m\u001b[1;33m,\u001b[0m \u001b[0mtimeout_value\u001b[0m\u001b[1;33m=\u001b[0m\u001b[0mread_timeout\u001b[0m\u001b[1;33m)\u001b[0m\u001b[1;33m\u001b[0m\u001b[1;33m\u001b[0m\u001b[0m\n",
      "\u001b[1;32m~\\anaconda3\\lib\\site-packages\\urllib3\\packages\\six.py\u001b[0m in \u001b[0;36mraise_from\u001b[1;34m(value, from_value)\u001b[0m\n",
      "\u001b[1;32m~\\anaconda3\\lib\\site-packages\\urllib3\\connectionpool.py\u001b[0m in \u001b[0;36m_make_request\u001b[1;34m(self, conn, method, url, timeout, chunked, **httplib_request_kw)\u001b[0m\n\u001b[0;32m    438\u001b[0m                 \u001b[1;31m# Python 3\u001b[0m\u001b[1;33m\u001b[0m\u001b[1;33m\u001b[0m\u001b[1;33m\u001b[0m\u001b[0m\n\u001b[0;32m    439\u001b[0m                 \u001b[1;32mtry\u001b[0m\u001b[1;33m:\u001b[0m\u001b[1;33m\u001b[0m\u001b[1;33m\u001b[0m\u001b[0m\n\u001b[1;32m--> 440\u001b[1;33m                     \u001b[0mhttplib_response\u001b[0m \u001b[1;33m=\u001b[0m \u001b[0mconn\u001b[0m\u001b[1;33m.\u001b[0m\u001b[0mgetresponse\u001b[0m\u001b[1;33m(\u001b[0m\u001b[1;33m)\u001b[0m\u001b[1;33m\u001b[0m\u001b[1;33m\u001b[0m\u001b[0m\n\u001b[0m\u001b[0;32m    441\u001b[0m                 \u001b[1;32mexcept\u001b[0m \u001b[0mBaseException\u001b[0m \u001b[1;32mas\u001b[0m \u001b[0me\u001b[0m\u001b[1;33m:\u001b[0m\u001b[1;33m\u001b[0m\u001b[1;33m\u001b[0m\u001b[0m\n\u001b[0;32m    442\u001b[0m                     \u001b[1;31m# Remove the TypeError from the exception chain in\u001b[0m\u001b[1;33m\u001b[0m\u001b[1;33m\u001b[0m\u001b[1;33m\u001b[0m\u001b[0m\n",
      "\u001b[1;32m~\\anaconda3\\lib\\http\\client.py\u001b[0m in \u001b[0;36mgetresponse\u001b[1;34m(self)\u001b[0m\n\u001b[0;32m   1345\u001b[0m         \u001b[1;32mtry\u001b[0m\u001b[1;33m:\u001b[0m\u001b[1;33m\u001b[0m\u001b[1;33m\u001b[0m\u001b[0m\n\u001b[0;32m   1346\u001b[0m             \u001b[1;32mtry\u001b[0m\u001b[1;33m:\u001b[0m\u001b[1;33m\u001b[0m\u001b[1;33m\u001b[0m\u001b[0m\n\u001b[1;32m-> 1347\u001b[1;33m                 \u001b[0mresponse\u001b[0m\u001b[1;33m.\u001b[0m\u001b[0mbegin\u001b[0m\u001b[1;33m(\u001b[0m\u001b[1;33m)\u001b[0m\u001b[1;33m\u001b[0m\u001b[1;33m\u001b[0m\u001b[0m\n\u001b[0m\u001b[0;32m   1348\u001b[0m             \u001b[1;32mexcept\u001b[0m \u001b[0mConnectionError\u001b[0m\u001b[1;33m:\u001b[0m\u001b[1;33m\u001b[0m\u001b[1;33m\u001b[0m\u001b[0m\n\u001b[0;32m   1349\u001b[0m                 \u001b[0mself\u001b[0m\u001b[1;33m.\u001b[0m\u001b[0mclose\u001b[0m\u001b[1;33m(\u001b[0m\u001b[1;33m)\u001b[0m\u001b[1;33m\u001b[0m\u001b[1;33m\u001b[0m\u001b[0m\n",
      "\u001b[1;32m~\\anaconda3\\lib\\http\\client.py\u001b[0m in \u001b[0;36mbegin\u001b[1;34m(self)\u001b[0m\n\u001b[0;32m    305\u001b[0m         \u001b[1;31m# read until we get a non-100 response\u001b[0m\u001b[1;33m\u001b[0m\u001b[1;33m\u001b[0m\u001b[1;33m\u001b[0m\u001b[0m\n\u001b[0;32m    306\u001b[0m         \u001b[1;32mwhile\u001b[0m \u001b[1;32mTrue\u001b[0m\u001b[1;33m:\u001b[0m\u001b[1;33m\u001b[0m\u001b[1;33m\u001b[0m\u001b[0m\n\u001b[1;32m--> 307\u001b[1;33m             \u001b[0mversion\u001b[0m\u001b[1;33m,\u001b[0m \u001b[0mstatus\u001b[0m\u001b[1;33m,\u001b[0m \u001b[0mreason\u001b[0m \u001b[1;33m=\u001b[0m \u001b[0mself\u001b[0m\u001b[1;33m.\u001b[0m\u001b[0m_read_status\u001b[0m\u001b[1;33m(\u001b[0m\u001b[1;33m)\u001b[0m\u001b[1;33m\u001b[0m\u001b[1;33m\u001b[0m\u001b[0m\n\u001b[0m\u001b[0;32m    308\u001b[0m             \u001b[1;32mif\u001b[0m \u001b[0mstatus\u001b[0m \u001b[1;33m!=\u001b[0m \u001b[0mCONTINUE\u001b[0m\u001b[1;33m:\u001b[0m\u001b[1;33m\u001b[0m\u001b[1;33m\u001b[0m\u001b[0m\n\u001b[0;32m    309\u001b[0m                 \u001b[1;32mbreak\u001b[0m\u001b[1;33m\u001b[0m\u001b[1;33m\u001b[0m\u001b[0m\n",
      "\u001b[1;32m~\\anaconda3\\lib\\http\\client.py\u001b[0m in \u001b[0;36m_read_status\u001b[1;34m(self)\u001b[0m\n\u001b[0;32m    266\u001b[0m \u001b[1;33m\u001b[0m\u001b[0m\n\u001b[0;32m    267\u001b[0m     \u001b[1;32mdef\u001b[0m \u001b[0m_read_status\u001b[0m\u001b[1;33m(\u001b[0m\u001b[0mself\u001b[0m\u001b[1;33m)\u001b[0m\u001b[1;33m:\u001b[0m\u001b[1;33m\u001b[0m\u001b[1;33m\u001b[0m\u001b[0m\n\u001b[1;32m--> 268\u001b[1;33m         \u001b[0mline\u001b[0m \u001b[1;33m=\u001b[0m \u001b[0mstr\u001b[0m\u001b[1;33m(\u001b[0m\u001b[0mself\u001b[0m\u001b[1;33m.\u001b[0m\u001b[0mfp\u001b[0m\u001b[1;33m.\u001b[0m\u001b[0mreadline\u001b[0m\u001b[1;33m(\u001b[0m\u001b[0m_MAXLINE\u001b[0m \u001b[1;33m+\u001b[0m \u001b[1;36m1\u001b[0m\u001b[1;33m)\u001b[0m\u001b[1;33m,\u001b[0m \u001b[1;34m\"iso-8859-1\"\u001b[0m\u001b[1;33m)\u001b[0m\u001b[1;33m\u001b[0m\u001b[1;33m\u001b[0m\u001b[0m\n\u001b[0m\u001b[0;32m    269\u001b[0m         \u001b[1;32mif\u001b[0m \u001b[0mlen\u001b[0m\u001b[1;33m(\u001b[0m\u001b[0mline\u001b[0m\u001b[1;33m)\u001b[0m \u001b[1;33m>\u001b[0m \u001b[0m_MAXLINE\u001b[0m\u001b[1;33m:\u001b[0m\u001b[1;33m\u001b[0m\u001b[1;33m\u001b[0m\u001b[0m\n\u001b[0;32m    270\u001b[0m             \u001b[1;32mraise\u001b[0m \u001b[0mLineTooLong\u001b[0m\u001b[1;33m(\u001b[0m\u001b[1;34m\"status line\"\u001b[0m\u001b[1;33m)\u001b[0m\u001b[1;33m\u001b[0m\u001b[1;33m\u001b[0m\u001b[0m\n",
      "\u001b[1;32m~\\anaconda3\\lib\\socket.py\u001b[0m in \u001b[0;36mreadinto\u001b[1;34m(self, b)\u001b[0m\n\u001b[0;32m    667\u001b[0m         \u001b[1;32mwhile\u001b[0m \u001b[1;32mTrue\u001b[0m\u001b[1;33m:\u001b[0m\u001b[1;33m\u001b[0m\u001b[1;33m\u001b[0m\u001b[0m\n\u001b[0;32m    668\u001b[0m             \u001b[1;32mtry\u001b[0m\u001b[1;33m:\u001b[0m\u001b[1;33m\u001b[0m\u001b[1;33m\u001b[0m\u001b[0m\n\u001b[1;32m--> 669\u001b[1;33m                 \u001b[1;32mreturn\u001b[0m \u001b[0mself\u001b[0m\u001b[1;33m.\u001b[0m\u001b[0m_sock\u001b[0m\u001b[1;33m.\u001b[0m\u001b[0mrecv_into\u001b[0m\u001b[1;33m(\u001b[0m\u001b[0mb\u001b[0m\u001b[1;33m)\u001b[0m\u001b[1;33m\u001b[0m\u001b[1;33m\u001b[0m\u001b[0m\n\u001b[0m\u001b[0;32m    670\u001b[0m             \u001b[1;32mexcept\u001b[0m \u001b[0mtimeout\u001b[0m\u001b[1;33m:\u001b[0m\u001b[1;33m\u001b[0m\u001b[1;33m\u001b[0m\u001b[0m\n\u001b[0;32m    671\u001b[0m                 \u001b[0mself\u001b[0m\u001b[1;33m.\u001b[0m\u001b[0m_timeout_occurred\u001b[0m \u001b[1;33m=\u001b[0m \u001b[1;32mTrue\u001b[0m\u001b[1;33m\u001b[0m\u001b[1;33m\u001b[0m\u001b[0m\n",
      "\u001b[1;32m~\\anaconda3\\lib\\ssl.py\u001b[0m in \u001b[0;36mrecv_into\u001b[1;34m(self, buffer, nbytes, flags)\u001b[0m\n\u001b[0;32m   1239\u001b[0m                   \u001b[1;34m\"non-zero flags not allowed in calls to recv_into() on %s\"\u001b[0m \u001b[1;33m%\u001b[0m\u001b[1;33m\u001b[0m\u001b[1;33m\u001b[0m\u001b[0m\n\u001b[0;32m   1240\u001b[0m                   self.__class__)\n\u001b[1;32m-> 1241\u001b[1;33m             \u001b[1;32mreturn\u001b[0m \u001b[0mself\u001b[0m\u001b[1;33m.\u001b[0m\u001b[0mread\u001b[0m\u001b[1;33m(\u001b[0m\u001b[0mnbytes\u001b[0m\u001b[1;33m,\u001b[0m \u001b[0mbuffer\u001b[0m\u001b[1;33m)\u001b[0m\u001b[1;33m\u001b[0m\u001b[1;33m\u001b[0m\u001b[0m\n\u001b[0m\u001b[0;32m   1242\u001b[0m         \u001b[1;32melse\u001b[0m\u001b[1;33m:\u001b[0m\u001b[1;33m\u001b[0m\u001b[1;33m\u001b[0m\u001b[0m\n\u001b[0;32m   1243\u001b[0m             \u001b[1;32mreturn\u001b[0m \u001b[0msuper\u001b[0m\u001b[1;33m(\u001b[0m\u001b[1;33m)\u001b[0m\u001b[1;33m.\u001b[0m\u001b[0mrecv_into\u001b[0m\u001b[1;33m(\u001b[0m\u001b[0mbuffer\u001b[0m\u001b[1;33m,\u001b[0m \u001b[0mnbytes\u001b[0m\u001b[1;33m,\u001b[0m \u001b[0mflags\u001b[0m\u001b[1;33m)\u001b[0m\u001b[1;33m\u001b[0m\u001b[1;33m\u001b[0m\u001b[0m\n",
      "\u001b[1;32m~\\anaconda3\\lib\\ssl.py\u001b[0m in \u001b[0;36mread\u001b[1;34m(self, len, buffer)\u001b[0m\n\u001b[0;32m   1097\u001b[0m         \u001b[1;32mtry\u001b[0m\u001b[1;33m:\u001b[0m\u001b[1;33m\u001b[0m\u001b[1;33m\u001b[0m\u001b[0m\n\u001b[0;32m   1098\u001b[0m             \u001b[1;32mif\u001b[0m \u001b[0mbuffer\u001b[0m \u001b[1;32mis\u001b[0m \u001b[1;32mnot\u001b[0m \u001b[1;32mNone\u001b[0m\u001b[1;33m:\u001b[0m\u001b[1;33m\u001b[0m\u001b[1;33m\u001b[0m\u001b[0m\n\u001b[1;32m-> 1099\u001b[1;33m                 \u001b[1;32mreturn\u001b[0m \u001b[0mself\u001b[0m\u001b[1;33m.\u001b[0m\u001b[0m_sslobj\u001b[0m\u001b[1;33m.\u001b[0m\u001b[0mread\u001b[0m\u001b[1;33m(\u001b[0m\u001b[0mlen\u001b[0m\u001b[1;33m,\u001b[0m \u001b[0mbuffer\u001b[0m\u001b[1;33m)\u001b[0m\u001b[1;33m\u001b[0m\u001b[1;33m\u001b[0m\u001b[0m\n\u001b[0m\u001b[0;32m   1100\u001b[0m             \u001b[1;32melse\u001b[0m\u001b[1;33m:\u001b[0m\u001b[1;33m\u001b[0m\u001b[1;33m\u001b[0m\u001b[0m\n\u001b[0;32m   1101\u001b[0m                 \u001b[1;32mreturn\u001b[0m \u001b[0mself\u001b[0m\u001b[1;33m.\u001b[0m\u001b[0m_sslobj\u001b[0m\u001b[1;33m.\u001b[0m\u001b[0mread\u001b[0m\u001b[1;33m(\u001b[0m\u001b[0mlen\u001b[0m\u001b[1;33m)\u001b[0m\u001b[1;33m\u001b[0m\u001b[1;33m\u001b[0m\u001b[0m\n",
      "\u001b[1;31mKeyboardInterrupt\u001b[0m: "
     ]
    }
   ],
   "source": [
    "fpolitics={}\n",
    "for items in wikipedia.search('Politics', results=500):\n",
    "         fpolitics[items]= wiki_wiki.page(items).text"
   ]
  },
  {
   "cell_type": "code",
   "execution_count": null,
   "id": "aa37daa7",
   "metadata": {},
   "outputs": [],
   "source": [
    "fsports={}\n",
    "for items in wikipedia.search('sports', results=500):\n",
    "         fsports[items]= wiki_wiki.page(items).text"
   ]
  },
  {
   "cell_type": "code",
   "execution_count": null,
   "id": "4d83c735",
   "metadata": {},
   "outputs": [],
   "source": [
    "fhealth={}\n",
    "for items in wikipedia.search('health', results=500):\n",
    "         fhealth[items]= wiki_wiki.page(items).text"
   ]
  },
  {
   "cell_type": "code",
   "execution_count": null,
   "id": "36ef8815",
   "metadata": {},
   "outputs": [],
   "source": [
    "fhistory={}\n",
    "for items in wikipedia.search('history', results=500):\n",
    "         fhistory[items]= wiki_wiki.page(items).text"
   ]
  },
  {
   "cell_type": "code",
   "execution_count": null,
   "id": "22e7e09d",
   "metadata": {},
   "outputs": [],
   "source": [
    "fgeography={}\n",
    "for items in wikipedia.search('geography', results=500):\n",
    "         fgeography[items]= wiki_wiki.page(items).text"
   ]
  },
  {
   "cell_type": "code",
   "execution_count": null,
   "id": "7e2c2252",
   "metadata": {},
   "outputs": [],
   "source": [
    "farts={}\n",
    "for items in wikipedia.search('arts', results=500):\n",
    "         farts[items]= wiki_wiki.page(items).text"
   ]
  },
  {
   "cell_type": "code",
   "execution_count": null,
   "id": "e6ae2e69",
   "metadata": {},
   "outputs": [],
   "source": [
    "ftechnology={}\n",
    "for items in wikipedia.search('technology', results=500):\n",
    "         ftechnology[items]= wiki_wiki.page(items).text"
   ]
  },
  {
   "cell_type": "code",
   "execution_count": null,
   "id": "bb217a20",
   "metadata": {},
   "outputs": [],
   "source": [
    "fbiology={}\n",
    "for items in wikipedia.search('biology', results=500):\n",
    "         fbiology[items]= wiki_wiki.page(items).text"
   ]
  },
  {
   "cell_type": "code",
   "execution_count": null,
   "id": "af66b747",
   "metadata": {},
   "outputs": [],
   "source": [
    "ftransport={}\n",
    "for items in wikipedia.search('transport', results=500):\n",
    "         ftransport[items]= wiki_wiki.page(items).text"
   ]
  },
  {
   "cell_type": "code",
   "execution_count": null,
   "id": "d37f8fd3",
   "metadata": {},
   "outputs": [],
   "source": [
    "import pandas as pd\n",
    "\n",
    "data1=pd.DataFrame.from_dict(fmathematics,orient='index')\n",
    "data2=pd.DataFrame.from_dict(fpolitics,orient='index')\n",
    "data3=pd.DataFrame.from_dict(fsports,orient='index')\n",
    "data4=pd.DataFrame.from_dict(fhealth,orient='index')\n",
    "data5=pd.DataFrame.from_dict(fhistory,orient='index')\n",
    "data6=pd.DataFrame.from_dict(fgeography,orient='index')\n",
    "data7=pd.DataFrame.from_dict(farts,orient='index')\n",
    "data8=pd.DataFrame.from_dict(ftechnology,orient='index')\n",
    "data9=pd.DataFrame.from_dict(fbiology,orient='index')\n",
    "data10=pd.DataFrame.from_dict(ftransport,orient='index')"
   ]
  },
  {
   "cell_type": "code",
   "execution_count": null,
   "id": "9a8a54c0",
   "metadata": {},
   "outputs": [],
   "source": [
    "data1=pd.DataFrame(fmathematics.items(), columns=['Category', 'Page Text'])"
   ]
  },
  {
   "cell_type": "code",
   "execution_count": null,
   "id": "d3bb5381",
   "metadata": {},
   "outputs": [],
   "source": [
    "data2=pd.DataFrame(fpolitics.items(), columns=['Category', 'Page Text'])\n",
    "data3=pd.DataFrame(fsports.items(), columns=['Category', 'Page Text'])\n",
    "data4=pd.DataFrame(fhealth.items(), columns=['Category', 'Page Text'])\n",
    "data5=pd.DataFrame(fhistory.items(), columns=['Category', 'Page Text'])\n",
    "data6=pd.DataFrame(fgeography.items(), columns=['Category', 'Page Text'])\n",
    "data7=pd.DataFrame(farts.items(), columns=['Category', 'Page Text'])\n",
    "data8=pd.DataFrame(ftechnology.items(), columns=['Category', 'Page Text'])\n",
    "data9=pd.DataFrame(fbiology.items(), columns=['Category', 'Page Text'])\n",
    "data10=pd.DataFrame(ftransport.items(), columns=['Category', 'Page Text'])\n"
   ]
  },
  {
   "cell_type": "code",
   "execution_count": null,
   "id": "f40a2eb2",
   "metadata": {},
   "outputs": [],
   "source": [
    "data1"
   ]
  },
  {
   "cell_type": "code",
   "execution_count": null,
   "id": "4c1f1a26",
   "metadata": {},
   "outputs": [],
   "source": [
    "data1 = data1.assign(Category='Mathematics')"
   ]
  },
  {
   "cell_type": "code",
   "execution_count": null,
   "id": "d70ac838",
   "metadata": {},
   "outputs": [],
   "source": [
    "data2 = data2.assign(Category='Politics')\n",
    "data3 = data3.assign(Category='Sports')\n",
    "data4 = data4.assign(Category='Health')\n",
    "data5 = data5.assign(Category='History')\n",
    "data6 = data6.assign(Category='Geography')\n",
    "data7 = data7.assign(Category='Arts')\n",
    "data8 = data8.assign(Category='Technology')\n",
    "data9 = data9.assign(Category='Biology')\n",
    "data10 = data10.assign(Category='Transport')\n"
   ]
  },
  {
   "cell_type": "code",
   "execution_count": null,
   "id": "b25a81cb",
   "metadata": {},
   "outputs": [],
   "source": [
    "data1\n"
   ]
  },
  {
   "cell_type": "code",
   "execution_count": null,
   "id": "c8c2fe4c",
   "metadata": {},
   "outputs": [],
   "source": [
    "frames = [data1, data2, data3, data4, data5, data6, data7, data8, data9, data10]"
   ]
  },
  {
   "cell_type": "code",
   "execution_count": null,
   "id": "64d86d7e",
   "metadata": {},
   "outputs": [],
   "source": [
    "fdata = pd.concat(frames,ignore_index=True)"
   ]
  },
  {
   "cell_type": "code",
   "execution_count": null,
   "id": "62783f9d",
   "metadata": {},
   "outputs": [],
   "source": [
    "fdata.shape[0]"
   ]
  },
  {
   "cell_type": "code",
   "execution_count": null,
   "id": "e53a7016",
   "metadata": {},
   "outputs": [],
   "source": [
    "fdata"
   ]
  },
  {
   "cell_type": "code",
   "execution_count": null,
   "id": "f3a4e3b3",
   "metadata": {},
   "outputs": [],
   "source": [
    "fdata.to_csv('wikidata.csv',index= 'False',encoding='utf-8')"
   ]
  },
  {
   "cell_type": "code",
   "execution_count": null,
   "id": "4a853192",
   "metadata": {},
   "outputs": [],
   "source": [
    "fdata.loc[5,'Page Text']"
   ]
  },
  {
   "cell_type": "code",
   "execution_count": 1,
   "id": "845e5194",
   "metadata": {},
   "outputs": [],
   "source": [
    "import pandas as pd\n",
    "df = pd.read_csv('wikidata.csv')"
   ]
  },
  {
   "cell_type": "code",
   "execution_count": 2,
   "id": "7849d3db",
   "metadata": {},
   "outputs": [
    {
     "name": "stdout",
     "output_type": "stream",
     "text": [
      "<class 'pandas.core.frame.DataFrame'>\n",
      "RangeIndex: 5000 entries, 0 to 4999\n",
      "Data columns (total 3 columns):\n",
      " #   Column      Non-Null Count  Dtype \n",
      "---  ------      --------------  ----- \n",
      " 0   Unnamed: 0  5000 non-null   int64 \n",
      " 1   Category    5000 non-null   object\n",
      " 2   Page Text   5000 non-null   object\n",
      "dtypes: int64(1), object(2)\n",
      "memory usage: 117.3+ KB\n"
     ]
    }
   ],
   "source": [
    "df.info()"
   ]
  },
  {
   "cell_type": "code",
   "execution_count": 3,
   "id": "72da93c0",
   "metadata": {},
   "outputs": [
    {
     "name": "stderr",
     "output_type": "stream",
     "text": [
      "C:\\Users\\vedan\\anaconda3\\lib\\site-packages\\seaborn\\_decorators.py:36: FutureWarning: Pass the following variables as keyword args: x, y. From version 0.12, the only valid positional argument will be `data`, and passing other arguments without an explicit keyword will result in an error or misinterpretation.\n",
      "  warnings.warn(\n"
     ]
    },
    {
     "data": {
      "text/plain": [
       "<AxesSubplot:ylabel='Category'>"
      ]
     },
     "execution_count": 3,
     "metadata": {},
     "output_type": "execute_result"
    },
    {
     "data": {
      "image/png": "[encoded data removed]",
      "text/plain": [
       "<Figure size 576x288 with 1 Axes>"
      ]
     },
     "metadata": {
      "needs_background": "light"
     },
     "output_type": "display_data"
    }
   ],
   "source": [
    "import matplotlib.pyplot as plt\n",
    "import seaborn as sns\n",
    "\n",
    "plt.figure(figsize=(8,4))\n",
    "sns.barplot(df['Category'].value_counts().index, df['Category'].value_counts())"
   ]
  },
  {
   "cell_type": "code",
   "execution_count": 4,
   "id": "e747bbdd",
   "metadata": {},
   "outputs": [
    {
     "data": {
      "text/html": [
       "<div>\n",
       "<style scoped>\n",
       "    .dataframe tbody tr th:only-of-type {\n",
       "        vertical-align: middle;\n",
       "    }\n",
       "\n",
       "    .dataframe tbody tr th {\n",
       "        vertical-align: top;\n",
       "    }\n",
       "\n",
       "    .dataframe thead th {\n",
       "        text-align: right;\n",
       "    }\n",
       "</style>\n",
       "<table border=\"1\" class=\"dataframe\">\n",
       "  <thead>\n",
       "    <tr style=\"text-align: right;\">\n",
       "      <th></th>\n",
       "      <th>Unnamed: 0</th>\n",
       "      <th>Category</th>\n",
       "      <th>Page Text</th>\n",
       "    </tr>\n",
       "  </thead>\n",
       "  <tbody>\n",
       "    <tr>\n",
       "      <th>0</th>\n",
       "      <td>0</td>\n",
       "      <td>5</td>\n",
       "      <td>Mathematics (from Ancient Greek  μάθημα (máthē...</td>\n",
       "    </tr>\n",
       "    <tr>\n",
       "      <th>1</th>\n",
       "      <td>1</td>\n",
       "      <td>5</td>\n",
       "      <td>In mathematics, a function from a set X to a s...</td>\n",
       "    </tr>\n",
       "    <tr>\n",
       "      <th>2</th>\n",
       "      <td>2</td>\n",
       "      <td>5</td>\n",
       "      <td>The history of mathematics deals with the orig...</td>\n",
       "    </tr>\n",
       "    <tr>\n",
       "      <th>3</th>\n",
       "      <td>3</td>\n",
       "      <td>5</td>\n",
       "      <td>In mathematics, a matrix (plural matrices) is ...</td>\n",
       "    </tr>\n",
       "    <tr>\n",
       "      <th>4</th>\n",
       "      <td>4</td>\n",
       "      <td>5</td>\n",
       "      <td>Applied mathematics is the application of math...</td>\n",
       "    </tr>\n",
       "  </tbody>\n",
       "</table>\n",
       "</div>"
      ],
      "text/plain": [
       "   Unnamed: 0  Category                                          Page Text\n",
       "0           0         5  Mathematics (from Ancient Greek  μάθημα (máthē...\n",
       "1           1         5  In mathematics, a function from a set X to a s...\n",
       "2           2         5  The history of mathematics deals with the orig...\n",
       "3           3         5  In mathematics, a matrix (plural matrices) is ...\n",
       "4           4         5  Applied mathematics is the application of math..."
      ]
     },
     "execution_count": 4,
     "metadata": {},
     "output_type": "execute_result"
    }
   ],
   "source": [
    "from sklearn.preprocessing import LabelEncoder\n",
    "le=LabelEncoder()\n",
    "df['Category']=le.fit_transform(df['Category'])\n",
    "df.head()"
   ]
  },
  {
   "cell_type": "code",
   "execution_count": 5,
   "id": "73f3011d",
   "metadata": {},
   "outputs": [],
   "source": [
    "df = df.iloc[: , 1:]"
   ]
  },
  {
   "cell_type": "code",
   "execution_count": 6,
   "id": "76d36d71",
   "metadata": {},
   "outputs": [
    {
     "name": "stdout",
     "output_type": "stream",
     "text": [
      "X -- (5000, 1) \n",
      "y -- (5000,)\n"
     ]
    }
   ],
   "source": [
    "X = df.drop(['Category'], axis=1)\n",
    "y = df['Category']\n",
    "print(\"X --\", X.shape, \"\\ny --\", y.shape)"
   ]
  },
  {
   "cell_type": "code",
   "execution_count": 7,
   "id": "5c49e4c2",
   "metadata": {},
   "outputs": [
    {
     "name": "stdout",
     "output_type": "stream",
     "text": [
      "train_X shape:  (3400, 1)\n",
      "train_y shape:  (3400,)\n",
      "val_X shape:  (600, 1)\n",
      "val_y shape:  (600,)\n",
      "test_X shape:  (1000, 1)\n",
      "test_y shape:  (1000,)\n"
     ]
    }
   ],
   "source": [
    "from sklearn.model_selection import train_test_split\n",
    "X_train, test_X, y_train, test_y = train_test_split(X,y,test_size=0.2,random_state=42, stratify=y)\n",
    "\n",
    "train_X, val_X, train_y, val_y = train_test_split(X_train,y_train,test_size=0.15,random_state=0, stratify=y_train)\n",
    "\n",
    "print(\"train_X shape: \", train_X.shape)\n",
    "print(\"train_y shape: \", train_y.shape)\n",
    "print(\"val_X shape: \", val_X.shape)\n",
    "print(\"val_y shape: \", val_y.shape)\n",
    "print(\"test_X shape: \", test_X.shape)\n",
    "print(\"test_y shape: \", test_y.shape)"
   ]
  },
  {
   "cell_type": "code",
   "execution_count": 8,
   "id": "bf6cbbb1",
   "metadata": {},
   "outputs": [
    {
     "name": "stderr",
     "output_type": "stream",
     "text": [
      "<ipython-input-8-fe2cd0c545f6>:1: SettingWithCopyWarning: \n",
      "A value is trying to be set on a copy of a slice from a DataFrame.\n",
      "Try using .loc[row_indexer,col_indexer] = value instead\n",
      "\n",
      "See the caveats in the documentation: https://pandas.pydata.org/pandas-docs/stable/user_guide/indexing.html#returning-a-view-versus-a-copy\n",
      "  train_X['text'] = train_X['Page Text'].str.lower()\n"
     ]
    },
    {
     "data": {
      "text/html": [
       "<div>\n",
       "<style scoped>\n",
       "    .dataframe tbody tr th:only-of-type {\n",
       "        vertical-align: middle;\n",
       "    }\n",
       "\n",
       "    .dataframe tbody tr th {\n",
       "        vertical-align: top;\n",
       "    }\n",
       "\n",
       "    .dataframe thead th {\n",
       "        text-align: right;\n",
       "    }\n",
       "</style>\n",
       "<table border=\"1\" class=\"dataframe\">\n",
       "  <thead>\n",
       "    <tr style=\"text-align: right;\">\n",
       "      <th></th>\n",
       "      <th>Page Text</th>\n",
       "      <th>text</th>\n",
       "    </tr>\n",
       "  </thead>\n",
       "  <tbody>\n",
       "    <tr>\n",
       "      <th>1855</th>\n",
       "      <td>Homelessness is the condition of lacking stabl...</td>\n",
       "      <td>homelessness is the condition of lacking stabl...</td>\n",
       "    </tr>\n",
       "    <tr>\n",
       "      <th>4399</th>\n",
       "      <td>The Medusa and the Snail: More Notes of a Biol...</td>\n",
       "      <td>the medusa and the snail: more notes of a biol...</td>\n",
       "    </tr>\n",
       "    <tr>\n",
       "      <th>2414</th>\n",
       "      <td>Milwaukee, Wisconsin's history of over 160 yea...</td>\n",
       "      <td>milwaukee, wisconsin's history of over 160 yea...</td>\n",
       "    </tr>\n",
       "    <tr>\n",
       "      <th>3179</th>\n",
       "      <td>Vancouver Institute of Media Arts (VanArts) is...</td>\n",
       "      <td>vancouver institute of media arts (vanarts) is...</td>\n",
       "    </tr>\n",
       "    <tr>\n",
       "      <th>3159</th>\n",
       "      <td>Arts &amp; Business is a charitable organisation w...</td>\n",
       "      <td>arts &amp; business is a charitable organisation w...</td>\n",
       "    </tr>\n",
       "  </tbody>\n",
       "</table>\n",
       "</div>"
      ],
      "text/plain": [
       "                                              Page Text  \\\n",
       "1855  Homelessness is the condition of lacking stabl...   \n",
       "4399  The Medusa and the Snail: More Notes of a Biol...   \n",
       "2414  Milwaukee, Wisconsin's history of over 160 yea...   \n",
       "3179  Vancouver Institute of Media Arts (VanArts) is...   \n",
       "3159  Arts & Business is a charitable organisation w...   \n",
       "\n",
       "                                                   text  \n",
       "1855  homelessness is the condition of lacking stabl...  \n",
       "4399  the medusa and the snail: more notes of a biol...  \n",
       "2414  milwaukee, wisconsin's history of over 160 yea...  \n",
       "3179  vancouver institute of media arts (vanarts) is...  \n",
       "3159  arts & business is a charitable organisation w...  "
      ]
     },
     "execution_count": 8,
     "metadata": {},
     "output_type": "execute_result"
    }
   ],
   "source": [
    "train_X['text'] = train_X['Page Text'].str.lower()\n",
    "train_X.head()"
   ]
  },
  {
   "cell_type": "code",
   "execution_count": 9,
   "id": "eb7e3792",
   "metadata": {},
   "outputs": [
    {
     "name": "stdout",
     "output_type": "stream",
     "text": [
      "i; me; my; myself; we; our; ours; ourselves; you; you're; you've; you'll; you'd; your; yours; yourself; yourselves; he; him; his; himself; she; she's; her; hers; herself; it; it's; its; itself; they; them; their; theirs; themselves; what; which; who; whom; this; that; that'll; these; those; am; is; are; was; were; be; been; being; have; has; had; having; do; does; did; doing; a; an; the; and; but; if; or; because; as; until; while; of; at; by; for; with; about; against; between; into; through; during; before; after; above; below; to; from; up; down; in; out; on; off; over; under; again; further; then; once; here; there; when; where; why; how; all; any; both; each; few; more; most; other; some; such; no; nor; not; only; own; same; so; than; too; very; s; t; can; will; just; don; don't; should; should've; now; d; ll; m; o; re; ve; y; ain; aren; aren't; couldn; couldn't; didn; didn't; doesn; doesn't; hadn; hadn't; hasn; hasn't; haven; haven't; isn; isn't; ma; mightn; mightn't; mustn; mustn't; needn; needn't; shan; shan't; shouldn; shouldn't; wasn; wasn't; weren; weren't; won; won't; wouldn; wouldn't\n"
     ]
    }
   ],
   "source": [
    "from nltk.corpus import stopwords\n",
    "stopword = set(stopwords.words('english'))\n",
    "print(\"; \".join(stopwords.words('english')))"
   ]
  },
  {
   "cell_type": "code",
   "execution_count": 10,
   "id": "e22024a5",
   "metadata": {},
   "outputs": [
    {
     "name": "stderr",
     "output_type": "stream",
     "text": [
      "<ipython-input-10-29d8284edc61>:4: SettingWithCopyWarning: \n",
      "A value is trying to be set on a copy of a slice from a DataFrame.\n",
      "Try using .loc[row_indexer,col_indexer] = value instead\n",
      "\n",
      "See the caveats in the documentation: https://pandas.pydata.org/pandas-docs/stable/user_guide/indexing.html#returning-a-view-versus-a-copy\n",
      "  train_X['text11'] = train_X['text'].apply(lambda text :remove_stopwords(text))\n"
     ]
    },
    {
     "data": {
      "text/html": [
       "<div>\n",
       "<style scoped>\n",
       "    .dataframe tbody tr th:only-of-type {\n",
       "        vertical-align: middle;\n",
       "    }\n",
       "\n",
       "    .dataframe tbody tr th {\n",
       "        vertical-align: top;\n",
       "    }\n",
       "\n",
       "    .dataframe thead th {\n",
       "        text-align: right;\n",
       "    }\n",
       "</style>\n",
       "<table border=\"1\" class=\"dataframe\">\n",
       "  <thead>\n",
       "    <tr style=\"text-align: right;\">\n",
       "      <th></th>\n",
       "      <th>Page Text</th>\n",
       "      <th>text</th>\n",
       "      <th>text11</th>\n",
       "    </tr>\n",
       "  </thead>\n",
       "  <tbody>\n",
       "    <tr>\n",
       "      <th>1855</th>\n",
       "      <td>Homelessness is the condition of lacking stabl...</td>\n",
       "      <td>homelessness is the condition of lacking stabl...</td>\n",
       "      <td>homelessness condition lacking stable, safe, a...</td>\n",
       "    </tr>\n",
       "    <tr>\n",
       "      <th>4399</th>\n",
       "      <td>The Medusa and the Snail: More Notes of a Biol...</td>\n",
       "      <td>the medusa and the snail: more notes of a biol...</td>\n",
       "      <td>medusa snail: notes biology watcher 1979 colle...</td>\n",
       "    </tr>\n",
       "    <tr>\n",
       "      <th>2414</th>\n",
       "      <td>Milwaukee, Wisconsin's history of over 160 yea...</td>\n",
       "      <td>milwaukee, wisconsin's history of over 160 yea...</td>\n",
       "      <td>milwaukee, wisconsin's history 160 years immig...</td>\n",
       "    </tr>\n",
       "    <tr>\n",
       "      <th>3179</th>\n",
       "      <td>Vancouver Institute of Media Arts (VanArts) is...</td>\n",
       "      <td>vancouver institute of media arts (vanarts) is...</td>\n",
       "      <td>vancouver institute media arts (vanarts) priva...</td>\n",
       "    </tr>\n",
       "    <tr>\n",
       "      <th>3159</th>\n",
       "      <td>Arts &amp; Business is a charitable organisation w...</td>\n",
       "      <td>arts &amp; business is a charitable organisation w...</td>\n",
       "      <td>arts &amp; business charitable organisation whose ...</td>\n",
       "    </tr>\n",
       "  </tbody>\n",
       "</table>\n",
       "</div>"
      ],
      "text/plain": [
       "                                              Page Text  \\\n",
       "1855  Homelessness is the condition of lacking stabl...   \n",
       "4399  The Medusa and the Snail: More Notes of a Biol...   \n",
       "2414  Milwaukee, Wisconsin's history of over 160 yea...   \n",
       "3179  Vancouver Institute of Media Arts (VanArts) is...   \n",
       "3159  Arts & Business is a charitable organisation w...   \n",
       "\n",
       "                                                   text  \\\n",
       "1855  homelessness is the condition of lacking stabl...   \n",
       "4399  the medusa and the snail: more notes of a biol...   \n",
       "2414  milwaukee, wisconsin's history of over 160 yea...   \n",
       "3179  vancouver institute of media arts (vanarts) is...   \n",
       "3159  arts & business is a charitable organisation w...   \n",
       "\n",
       "                                                 text11  \n",
       "1855  homelessness condition lacking stable, safe, a...  \n",
       "4399  medusa snail: notes biology watcher 1979 colle...  \n",
       "2414  milwaukee, wisconsin's history 160 years immig...  \n",
       "3179  vancouver institute media arts (vanarts) priva...  \n",
       "3159  arts & business charitable organisation whose ...  "
      ]
     },
     "execution_count": 10,
     "metadata": {},
     "output_type": "execute_result"
    }
   ],
   "source": [
    "def remove_stopwords(text):\n",
    "    return \" \".join([word for word in str(text).split() if word not in stopword])\n",
    "\n",
    "train_X['text11'] = train_X['text'].apply(lambda text :remove_stopwords(text))\n",
    "train_X.head()"
   ]
  },
  {
   "cell_type": "code",
   "execution_count": 11,
   "id": "1f199353",
   "metadata": {},
   "outputs": [
    {
     "name": "stdout",
     "output_type": "stream",
     "text": [
      "!\"#$%&'()*+,-./:;<=>?@[\\]^_`{|}~\n"
     ]
    }
   ],
   "source": [
    "import numpy as np \n",
    "import pandas as pd \n",
    "import re\n",
    "import nltk\n",
    "import string\n",
    "punc_to_remove = string.punctuation\n",
    "print(punc_to_remove)"
   ]
  },
  {
   "cell_type": "code",
   "execution_count": 12,
   "id": "77ee6ecc",
   "metadata": {},
   "outputs": [
    {
     "name": "stderr",
     "output_type": "stream",
     "text": [
      "<ipython-input-12-d2e779de5426>:5: SettingWithCopyWarning: \n",
      "A value is trying to be set on a copy of a slice from a DataFrame.\n",
      "Try using .loc[row_indexer,col_indexer] = value instead\n",
      "\n",
      "See the caveats in the documentation: https://pandas.pydata.org/pandas-docs/stable/user_guide/indexing.html#returning-a-view-versus-a-copy\n",
      "  train_X[\"text12\"] = train_X[\"text11\"].apply(lambda text: remove_urls(text))\n"
     ]
    },
    {
     "data": {
      "text/html": [
       "<div>\n",
       "<style scoped>\n",
       "    .dataframe tbody tr th:only-of-type {\n",
       "        vertical-align: middle;\n",
       "    }\n",
       "\n",
       "    .dataframe tbody tr th {\n",
       "        vertical-align: top;\n",
       "    }\n",
       "\n",
       "    .dataframe thead th {\n",
       "        text-align: right;\n",
       "    }\n",
       "</style>\n",
       "<table border=\"1\" class=\"dataframe\">\n",
       "  <thead>\n",
       "    <tr style=\"text-align: right;\">\n",
       "      <th></th>\n",
       "      <th>Page Text</th>\n",
       "      <th>text</th>\n",
       "      <th>text11</th>\n",
       "      <th>text12</th>\n",
       "    </tr>\n",
       "  </thead>\n",
       "  <tbody>\n",
       "    <tr>\n",
       "      <th>1855</th>\n",
       "      <td>Homelessness is the condition of lacking stabl...</td>\n",
       "      <td>homelessness is the condition of lacking stabl...</td>\n",
       "      <td>homelessness condition lacking stable, safe, a...</td>\n",
       "      <td>homelessness condition lacking stable, safe, a...</td>\n",
       "    </tr>\n",
       "    <tr>\n",
       "      <th>4399</th>\n",
       "      <td>The Medusa and the Snail: More Notes of a Biol...</td>\n",
       "      <td>the medusa and the snail: more notes of a biol...</td>\n",
       "      <td>medusa snail: notes biology watcher 1979 colle...</td>\n",
       "      <td>medusa snail: notes biology watcher 1979 colle...</td>\n",
       "    </tr>\n",
       "    <tr>\n",
       "      <th>2414</th>\n",
       "      <td>Milwaukee, Wisconsin's history of over 160 yea...</td>\n",
       "      <td>milwaukee, wisconsin's history of over 160 yea...</td>\n",
       "      <td>milwaukee, wisconsin's history 160 years immig...</td>\n",
       "      <td>milwaukee, wisconsin's history 160 years immig...</td>\n",
       "    </tr>\n",
       "    <tr>\n",
       "      <th>3179</th>\n",
       "      <td>Vancouver Institute of Media Arts (VanArts) is...</td>\n",
       "      <td>vancouver institute of media arts (vanarts) is...</td>\n",
       "      <td>vancouver institute media arts (vanarts) priva...</td>\n",
       "      <td>vancouver institute media arts (vanarts) priva...</td>\n",
       "    </tr>\n",
       "    <tr>\n",
       "      <th>3159</th>\n",
       "      <td>Arts &amp; Business is a charitable organisation w...</td>\n",
       "      <td>arts &amp; business is a charitable organisation w...</td>\n",
       "      <td>arts &amp; business charitable organisation whose ...</td>\n",
       "      <td>arts &amp; business charitable organisation whose ...</td>\n",
       "    </tr>\n",
       "  </tbody>\n",
       "</table>\n",
       "</div>"
      ],
      "text/plain": [
       "                                              Page Text  \\\n",
       "1855  Homelessness is the condition of lacking stabl...   \n",
       "4399  The Medusa and the Snail: More Notes of a Biol...   \n",
       "2414  Milwaukee, Wisconsin's history of over 160 yea...   \n",
       "3179  Vancouver Institute of Media Arts (VanArts) is...   \n",
       "3159  Arts & Business is a charitable organisation w...   \n",
       "\n",
       "                                                   text  \\\n",
       "1855  homelessness is the condition of lacking stabl...   \n",
       "4399  the medusa and the snail: more notes of a biol...   \n",
       "2414  milwaukee, wisconsin's history of over 160 yea...   \n",
       "3179  vancouver institute of media arts (vanarts) is...   \n",
       "3159  arts & business is a charitable organisation w...   \n",
       "\n",
       "                                                 text11  \\\n",
       "1855  homelessness condition lacking stable, safe, a...   \n",
       "4399  medusa snail: notes biology watcher 1979 colle...   \n",
       "2414  milwaukee, wisconsin's history 160 years immig...   \n",
       "3179  vancouver institute media arts (vanarts) priva...   \n",
       "3159  arts & business charitable organisation whose ...   \n",
       "\n",
       "                                                 text12  \n",
       "1855  homelessness condition lacking stable, safe, a...  \n",
       "4399  medusa snail: notes biology watcher 1979 colle...  \n",
       "2414  milwaukee, wisconsin's history 160 years immig...  \n",
       "3179  vancouver institute media arts (vanarts) priva...  \n",
       "3159  arts & business charitable organisation whose ...  "
      ]
     },
     "execution_count": 12,
     "metadata": {},
     "output_type": "execute_result"
    }
   ],
   "source": [
    "def remove_urls(text):\n",
    "    url_pattern = re.compile(r'https?://\\S+|www\\.\\S+')\n",
    "    return url_pattern.sub(r'', text)\n",
    "\n",
    "train_X[\"text12\"] = train_X[\"text11\"].apply(lambda text: remove_urls(text))\n",
    "train_X.head()"
   ]
  },
  {
   "cell_type": "code",
   "execution_count": 13,
   "id": "e5d927db",
   "metadata": {},
   "outputs": [
    {
     "name": "stderr",
     "output_type": "stream",
     "text": [
      "<ipython-input-13-e9894a904387>:5: SettingWithCopyWarning: \n",
      "A value is trying to be set on a copy of a slice from a DataFrame.\n",
      "Try using .loc[row_indexer,col_indexer] = value instead\n",
      "\n",
      "See the caveats in the documentation: https://pandas.pydata.org/pandas-docs/stable/user_guide/indexing.html#returning-a-view-versus-a-copy\n",
      "  train_X['text13'] = train_X['text12'].apply(lambda text: remove_punctuation(text))\n"
     ]
    },
    {
     "data": {
      "text/html": [
       "<div>\n",
       "<style scoped>\n",
       "    .dataframe tbody tr th:only-of-type {\n",
       "        vertical-align: middle;\n",
       "    }\n",
       "\n",
       "    .dataframe tbody tr th {\n",
       "        vertical-align: top;\n",
       "    }\n",
       "\n",
       "    .dataframe thead th {\n",
       "        text-align: right;\n",
       "    }\n",
       "</style>\n",
       "<table border=\"1\" class=\"dataframe\">\n",
       "  <thead>\n",
       "    <tr style=\"text-align: right;\">\n",
       "      <th></th>\n",
       "      <th>Page Text</th>\n",
       "      <th>text</th>\n",
       "      <th>text11</th>\n",
       "      <th>text12</th>\n",
       "      <th>text13</th>\n",
       "    </tr>\n",
       "  </thead>\n",
       "  <tbody>\n",
       "    <tr>\n",
       "      <th>1855</th>\n",
       "      <td>Homelessness is the condition of lacking stabl...</td>\n",
       "      <td>homelessness is the condition of lacking stabl...</td>\n",
       "      <td>homelessness condition lacking stable, safe, a...</td>\n",
       "      <td>homelessness condition lacking stable, safe, a...</td>\n",
       "      <td>homelessness condition lacking stable safe ade...</td>\n",
       "    </tr>\n",
       "    <tr>\n",
       "      <th>4399</th>\n",
       "      <td>The Medusa and the Snail: More Notes of a Biol...</td>\n",
       "      <td>the medusa and the snail: more notes of a biol...</td>\n",
       "      <td>medusa snail: notes biology watcher 1979 colle...</td>\n",
       "      <td>medusa snail: notes biology watcher 1979 colle...</td>\n",
       "      <td>medusa snail notes biology watcher 1979 collec...</td>\n",
       "    </tr>\n",
       "    <tr>\n",
       "      <th>2414</th>\n",
       "      <td>Milwaukee, Wisconsin's history of over 160 yea...</td>\n",
       "      <td>milwaukee, wisconsin's history of over 160 yea...</td>\n",
       "      <td>milwaukee, wisconsin's history 160 years immig...</td>\n",
       "      <td>milwaukee, wisconsin's history 160 years immig...</td>\n",
       "      <td>milwaukee wisconsins history 160 years immigra...</td>\n",
       "    </tr>\n",
       "    <tr>\n",
       "      <th>3179</th>\n",
       "      <td>Vancouver Institute of Media Arts (VanArts) is...</td>\n",
       "      <td>vancouver institute of media arts (vanarts) is...</td>\n",
       "      <td>vancouver institute media arts (vanarts) priva...</td>\n",
       "      <td>vancouver institute media arts (vanarts) priva...</td>\n",
       "      <td>vancouver institute media arts vanarts private...</td>\n",
       "    </tr>\n",
       "    <tr>\n",
       "      <th>3159</th>\n",
       "      <td>Arts &amp; Business is a charitable organisation w...</td>\n",
       "      <td>arts &amp; business is a charitable organisation w...</td>\n",
       "      <td>arts &amp; business charitable organisation whose ...</td>\n",
       "      <td>arts &amp; business charitable organisation whose ...</td>\n",
       "      <td>arts  business charitable organisation whose r...</td>\n",
       "    </tr>\n",
       "  </tbody>\n",
       "</table>\n",
       "</div>"
      ],
      "text/plain": [
       "                                              Page Text  \\\n",
       "1855  Homelessness is the condition of lacking stabl...   \n",
       "4399  The Medusa and the Snail: More Notes of a Biol...   \n",
       "2414  Milwaukee, Wisconsin's history of over 160 yea...   \n",
       "3179  Vancouver Institute of Media Arts (VanArts) is...   \n",
       "3159  Arts & Business is a charitable organisation w...   \n",
       "\n",
       "                                                   text  \\\n",
       "1855  homelessness is the condition of lacking stabl...   \n",
       "4399  the medusa and the snail: more notes of a biol...   \n",
       "2414  milwaukee, wisconsin's history of over 160 yea...   \n",
       "3179  vancouver institute of media arts (vanarts) is...   \n",
       "3159  arts & business is a charitable organisation w...   \n",
       "\n",
       "                                                 text11  \\\n",
       "1855  homelessness condition lacking stable, safe, a...   \n",
       "4399  medusa snail: notes biology watcher 1979 colle...   \n",
       "2414  milwaukee, wisconsin's history 160 years immig...   \n",
       "3179  vancouver institute media arts (vanarts) priva...   \n",
       "3159  arts & business charitable organisation whose ...   \n",
       "\n",
       "                                                 text12  \\\n",
       "1855  homelessness condition lacking stable, safe, a...   \n",
       "4399  medusa snail: notes biology watcher 1979 colle...   \n",
       "2414  milwaukee, wisconsin's history 160 years immig...   \n",
       "3179  vancouver institute media arts (vanarts) priva...   \n",
       "3159  arts & business charitable organisation whose ...   \n",
       "\n",
       "                                                 text13  \n",
       "1855  homelessness condition lacking stable safe ade...  \n",
       "4399  medusa snail notes biology watcher 1979 collec...  \n",
       "2414  milwaukee wisconsins history 160 years immigra...  \n",
       "3179  vancouver institute media arts vanarts private...  \n",
       "3159  arts  business charitable organisation whose r...  "
      ]
     },
     "execution_count": 13,
     "metadata": {},
     "output_type": "execute_result"
    }
   ],
   "source": [
    "def remove_punctuation(text):\n",
    "    \"\"\"custom function to remove the punctuation\"\"\"\n",
    "    return text.translate(str.maketrans('', '', punc_to_remove))\n",
    "\n",
    "train_X['text13'] = train_X['text12'].apply(lambda text: remove_punctuation(text))\n",
    "train_X.head()"
   ]
  },
  {
   "cell_type": "code",
   "execution_count": 14,
   "id": "cdefb107",
   "metadata": {},
   "outputs": [
    {
     "name": "stderr",
     "output_type": "stream",
     "text": [
      "<ipython-input-14-9de4f02bcf7a>:7: SettingWithCopyWarning: \n",
      "A value is trying to be set on a copy of a slice from a DataFrame.\n",
      "Try using .loc[row_indexer,col_indexer] = value instead\n",
      "\n",
      "See the caveats in the documentation: https://pandas.pydata.org/pandas-docs/stable/user_guide/indexing.html#returning-a-view-versus-a-copy\n",
      "  train_X[\"textstemmed\"] = train_X[\"text13\"].apply(lambda text: stem_words(text))\n"
     ]
    },
    {
     "data": {
      "text/html": [
       "<div>\n",
       "<style scoped>\n",
       "    .dataframe tbody tr th:only-of-type {\n",
       "        vertical-align: middle;\n",
       "    }\n",
       "\n",
       "    .dataframe tbody tr th {\n",
       "        vertical-align: top;\n",
       "    }\n",
       "\n",
       "    .dataframe thead th {\n",
       "        text-align: right;\n",
       "    }\n",
       "</style>\n",
       "<table border=\"1\" class=\"dataframe\">\n",
       "  <thead>\n",
       "    <tr style=\"text-align: right;\">\n",
       "      <th></th>\n",
       "      <th>Page Text</th>\n",
       "      <th>text</th>\n",
       "      <th>text11</th>\n",
       "      <th>text12</th>\n",
       "      <th>text13</th>\n",
       "      <th>textstemmed</th>\n",
       "    </tr>\n",
       "  </thead>\n",
       "  <tbody>\n",
       "    <tr>\n",
       "      <th>1855</th>\n",
       "      <td>Homelessness is the condition of lacking stabl...</td>\n",
       "      <td>homelessness is the condition of lacking stabl...</td>\n",
       "      <td>homelessness condition lacking stable, safe, a...</td>\n",
       "      <td>homelessness condition lacking stable, safe, a...</td>\n",
       "      <td>homelessness condition lacking stable safe ade...</td>\n",
       "      <td>homeless condit lack stabl safe adequ hous def...</td>\n",
       "    </tr>\n",
       "    <tr>\n",
       "      <th>4399</th>\n",
       "      <td>The Medusa and the Snail: More Notes of a Biol...</td>\n",
       "      <td>the medusa and the snail: more notes of a biol...</td>\n",
       "      <td>medusa snail: notes biology watcher 1979 colle...</td>\n",
       "      <td>medusa snail: notes biology watcher 1979 colle...</td>\n",
       "      <td>medusa snail notes biology watcher 1979 collec...</td>\n",
       "      <td>medusa snail note biolog watcher 1979 collect ...</td>\n",
       "    </tr>\n",
       "    <tr>\n",
       "      <th>2414</th>\n",
       "      <td>Milwaukee, Wisconsin's history of over 160 yea...</td>\n",
       "      <td>milwaukee, wisconsin's history of over 160 yea...</td>\n",
       "      <td>milwaukee, wisconsin's history 160 years immig...</td>\n",
       "      <td>milwaukee, wisconsin's history 160 years immig...</td>\n",
       "      <td>milwaukee wisconsins history 160 years immigra...</td>\n",
       "      <td>milwauke wisconsin histori 160 year immigr of ...</td>\n",
       "    </tr>\n",
       "    <tr>\n",
       "      <th>3179</th>\n",
       "      <td>Vancouver Institute of Media Arts (VanArts) is...</td>\n",
       "      <td>vancouver institute of media arts (vanarts) is...</td>\n",
       "      <td>vancouver institute media arts (vanarts) priva...</td>\n",
       "      <td>vancouver institute media arts (vanarts) priva...</td>\n",
       "      <td>vancouver institute media arts vanarts private...</td>\n",
       "      <td>vancouv institut media art vanart privat posts...</td>\n",
       "    </tr>\n",
       "    <tr>\n",
       "      <th>3159</th>\n",
       "      <td>Arts &amp; Business is a charitable organisation w...</td>\n",
       "      <td>arts &amp; business is a charitable organisation w...</td>\n",
       "      <td>arts &amp; business charitable organisation whose ...</td>\n",
       "      <td>arts &amp; business charitable organisation whose ...</td>\n",
       "      <td>arts  business charitable organisation whose r...</td>\n",
       "      <td>art busi charit organis whose role develop par...</td>\n",
       "    </tr>\n",
       "  </tbody>\n",
       "</table>\n",
       "</div>"
      ],
      "text/plain": [
       "                                              Page Text  \\\n",
       "1855  Homelessness is the condition of lacking stabl...   \n",
       "4399  The Medusa and the Snail: More Notes of a Biol...   \n",
       "2414  Milwaukee, Wisconsin's history of over 160 yea...   \n",
       "3179  Vancouver Institute of Media Arts (VanArts) is...   \n",
       "3159  Arts & Business is a charitable organisation w...   \n",
       "\n",
       "                                                   text  \\\n",
       "1855  homelessness is the condition of lacking stabl...   \n",
       "4399  the medusa and the snail: more notes of a biol...   \n",
       "2414  milwaukee, wisconsin's history of over 160 yea...   \n",
       "3179  vancouver institute of media arts (vanarts) is...   \n",
       "3159  arts & business is a charitable organisation w...   \n",
       "\n",
       "                                                 text11  \\\n",
       "1855  homelessness condition lacking stable, safe, a...   \n",
       "4399  medusa snail: notes biology watcher 1979 colle...   \n",
       "2414  milwaukee, wisconsin's history 160 years immig...   \n",
       "3179  vancouver institute media arts (vanarts) priva...   \n",
       "3159  arts & business charitable organisation whose ...   \n",
       "\n",
       "                                                 text12  \\\n",
       "1855  homelessness condition lacking stable, safe, a...   \n",
       "4399  medusa snail: notes biology watcher 1979 colle...   \n",
       "2414  milwaukee, wisconsin's history 160 years immig...   \n",
       "3179  vancouver institute media arts (vanarts) priva...   \n",
       "3159  arts & business charitable organisation whose ...   \n",
       "\n",
       "                                                 text13  \\\n",
       "1855  homelessness condition lacking stable safe ade...   \n",
       "4399  medusa snail notes biology watcher 1979 collec...   \n",
       "2414  milwaukee wisconsins history 160 years immigra...   \n",
       "3179  vancouver institute media arts vanarts private...   \n",
       "3159  arts  business charitable organisation whose r...   \n",
       "\n",
       "                                            textstemmed  \n",
       "1855  homeless condit lack stabl safe adequ hous def...  \n",
       "4399  medusa snail note biolog watcher 1979 collect ...  \n",
       "2414  milwauke wisconsin histori 160 year immigr of ...  \n",
       "3179  vancouv institut media art vanart privat posts...  \n",
       "3159  art busi charit organis whose role develop par...  "
      ]
     },
     "execution_count": 14,
     "metadata": {},
     "output_type": "execute_result"
    }
   ],
   "source": [
    "from nltk.stem.snowball import SnowballStemmer\n",
    "stemmer = SnowballStemmer('english')\n",
    "\n",
    "def stem_words(text):\n",
    "    return \" \".join([stemmer.stem(word) for word in text.split()])\n",
    "\n",
    "train_X[\"textstemmed\"] = train_X[\"text13\"].apply(lambda text: stem_words(text))\n",
    "train_X.head()"
   ]
  },
  {
   "cell_type": "code",
   "execution_count": 15,
   "id": "746eaea5",
   "metadata": {},
   "outputs": [
    {
     "name": "stderr",
     "output_type": "stream",
     "text": [
      "[nltk_data] Downloading package wordnet to\n",
      "[nltk_data]     C:\\Users\\vedan\\AppData\\Roaming\\nltk_data...\n",
      "[nltk_data]   Package wordnet is already up-to-date!\n",
      "<ipython-input-15-cebe0294567a>:7: SettingWithCopyWarning: \n",
      "A value is trying to be set on a copy of a slice from a DataFrame.\n",
      "Try using .loc[row_indexer,col_indexer] = value instead\n",
      "\n",
      "See the caveats in the documentation: https://pandas.pydata.org/pandas-docs/stable/user_guide/indexing.html#returning-a-view-versus-a-copy\n",
      "  train_X[\"text_lemmatized\"] = train_X[\"textstemmed\"].apply(lambda text: lemmatize_words(text))\n"
     ]
    },
    {
     "data": {
      "text/html": [
       "<div>\n",
       "<style scoped>\n",
       "    .dataframe tbody tr th:only-of-type {\n",
       "        vertical-align: middle;\n",
       "    }\n",
       "\n",
       "    .dataframe tbody tr th {\n",
       "        vertical-align: top;\n",
       "    }\n",
       "\n",
       "    .dataframe thead th {\n",
       "        text-align: right;\n",
       "    }\n",
       "</style>\n",
       "<table border=\"1\" class=\"dataframe\">\n",
       "  <thead>\n",
       "    <tr style=\"text-align: right;\">\n",
       "      <th></th>\n",
       "      <th>Page Text</th>\n",
       "      <th>text</th>\n",
       "      <th>text11</th>\n",
       "      <th>text12</th>\n",
       "      <th>text13</th>\n",
       "      <th>textstemmed</th>\n",
       "      <th>text_lemmatized</th>\n",
       "    </tr>\n",
       "  </thead>\n",
       "  <tbody>\n",
       "    <tr>\n",
       "      <th>1855</th>\n",
       "      <td>Homelessness is the condition of lacking stabl...</td>\n",
       "      <td>homelessness is the condition of lacking stabl...</td>\n",
       "      <td>homelessness condition lacking stable, safe, a...</td>\n",
       "      <td>homelessness condition lacking stable, safe, a...</td>\n",
       "      <td>homelessness condition lacking stable safe ade...</td>\n",
       "      <td>homeless condit lack stabl safe adequ hous def...</td>\n",
       "      <td>homeless condit lack stabl safe adequ hous def...</td>\n",
       "    </tr>\n",
       "    <tr>\n",
       "      <th>4399</th>\n",
       "      <td>The Medusa and the Snail: More Notes of a Biol...</td>\n",
       "      <td>the medusa and the snail: more notes of a biol...</td>\n",
       "      <td>medusa snail: notes biology watcher 1979 colle...</td>\n",
       "      <td>medusa snail: notes biology watcher 1979 colle...</td>\n",
       "      <td>medusa snail notes biology watcher 1979 collec...</td>\n",
       "      <td>medusa snail note biolog watcher 1979 collect ...</td>\n",
       "      <td>medusa snail note biolog watcher 1979 collect ...</td>\n",
       "    </tr>\n",
       "    <tr>\n",
       "      <th>2414</th>\n",
       "      <td>Milwaukee, Wisconsin's history of over 160 yea...</td>\n",
       "      <td>milwaukee, wisconsin's history of over 160 yea...</td>\n",
       "      <td>milwaukee, wisconsin's history 160 years immig...</td>\n",
       "      <td>milwaukee, wisconsin's history 160 years immig...</td>\n",
       "      <td>milwaukee wisconsins history 160 years immigra...</td>\n",
       "      <td>milwauke wisconsin histori 160 year immigr of ...</td>\n",
       "      <td>milwauke wisconsin histori 160 year immigr of ...</td>\n",
       "    </tr>\n",
       "    <tr>\n",
       "      <th>3179</th>\n",
       "      <td>Vancouver Institute of Media Arts (VanArts) is...</td>\n",
       "      <td>vancouver institute of media arts (vanarts) is...</td>\n",
       "      <td>vancouver institute media arts (vanarts) priva...</td>\n",
       "      <td>vancouver institute media arts (vanarts) priva...</td>\n",
       "      <td>vancouver institute media arts vanarts private...</td>\n",
       "      <td>vancouv institut media art vanart privat posts...</td>\n",
       "      <td>vancouv institut medium art vanart privat post...</td>\n",
       "    </tr>\n",
       "    <tr>\n",
       "      <th>3159</th>\n",
       "      <td>Arts &amp; Business is a charitable organisation w...</td>\n",
       "      <td>arts &amp; business is a charitable organisation w...</td>\n",
       "      <td>arts &amp; business charitable organisation whose ...</td>\n",
       "      <td>arts &amp; business charitable organisation whose ...</td>\n",
       "      <td>arts  business charitable organisation whose r...</td>\n",
       "      <td>art busi charit organis whose role develop par...</td>\n",
       "      <td>art busi charit organis whose role develop par...</td>\n",
       "    </tr>\n",
       "  </tbody>\n",
       "</table>\n",
       "</div>"
      ],
      "text/plain": [
       "                                              Page Text  \\\n",
       "1855  Homelessness is the condition of lacking stabl...   \n",
       "4399  The Medusa and the Snail: More Notes of a Biol...   \n",
       "2414  Milwaukee, Wisconsin's history of over 160 yea...   \n",
       "3179  Vancouver Institute of Media Arts (VanArts) is...   \n",
       "3159  Arts & Business is a charitable organisation w...   \n",
       "\n",
       "                                                   text  \\\n",
       "1855  homelessness is the condition of lacking stabl...   \n",
       "4399  the medusa and the snail: more notes of a biol...   \n",
       "2414  milwaukee, wisconsin's history of over 160 yea...   \n",
       "3179  vancouver institute of media arts (vanarts) is...   \n",
       "3159  arts & business is a charitable organisation w...   \n",
       "\n",
       "                                                 text11  \\\n",
       "1855  homelessness condition lacking stable, safe, a...   \n",
       "4399  medusa snail: notes biology watcher 1979 colle...   \n",
       "2414  milwaukee, wisconsin's history 160 years immig...   \n",
       "3179  vancouver institute media arts (vanarts) priva...   \n",
       "3159  arts & business charitable organisation whose ...   \n",
       "\n",
       "                                                 text12  \\\n",
       "1855  homelessness condition lacking stable, safe, a...   \n",
       "4399  medusa snail: notes biology watcher 1979 colle...   \n",
       "2414  milwaukee, wisconsin's history 160 years immig...   \n",
       "3179  vancouver institute media arts (vanarts) priva...   \n",
       "3159  arts & business charitable organisation whose ...   \n",
       "\n",
       "                                                 text13  \\\n",
       "1855  homelessness condition lacking stable safe ade...   \n",
       "4399  medusa snail notes biology watcher 1979 collec...   \n",
       "2414  milwaukee wisconsins history 160 years immigra...   \n",
       "3179  vancouver institute media arts vanarts private...   \n",
       "3159  arts  business charitable organisation whose r...   \n",
       "\n",
       "                                            textstemmed  \\\n",
       "1855  homeless condit lack stabl safe adequ hous def...   \n",
       "4399  medusa snail note biolog watcher 1979 collect ...   \n",
       "2414  milwauke wisconsin histori 160 year immigr of ...   \n",
       "3179  vancouv institut media art vanart privat posts...   \n",
       "3159  art busi charit organis whose role develop par...   \n",
       "\n",
       "                                        text_lemmatized  \n",
       "1855  homeless condit lack stabl safe adequ hous def...  \n",
       "4399  medusa snail note biolog watcher 1979 collect ...  \n",
       "2414  milwauke wisconsin histori 160 year immigr of ...  \n",
       "3179  vancouv institut medium art vanart privat post...  \n",
       "3159  art busi charit organis whose role develop par...  "
      ]
     },
     "execution_count": 15,
     "metadata": {},
     "output_type": "execute_result"
    }
   ],
   "source": [
    "from nltk.stem import WordNetLemmatizer\n",
    "nltk.download('wordnet')\n",
    "lemmatizer = WordNetLemmatizer()\n",
    "def lemmatize_words(text):\n",
    "    return \" \".join([lemmatizer.lemmatize(word) for word in text.split()])\n",
    "\n",
    "train_X[\"text_lemmatized\"] = train_X[\"textstemmed\"].apply(lambda text: lemmatize_words(text))\n",
    "train_X.head()"
   ]
  },
  {
   "cell_type": "code",
   "execution_count": 16,
   "id": "04cca7a3",
   "metadata": {},
   "outputs": [
    {
     "name": "stderr",
     "output_type": "stream",
     "text": [
      "C:\\Users\\vedan\\anaconda3\\lib\\site-packages\\pandas\\core\\frame.py:4308: SettingWithCopyWarning: \n",
      "A value is trying to be set on a copy of a slice from a DataFrame\n",
      "\n",
      "See the caveats in the documentation: https://pandas.pydata.org/pandas-docs/stable/user_guide/indexing.html#returning-a-view-versus-a-copy\n",
      "  return super().drop(\n"
     ]
    }
   ],
   "source": [
    "train_X.drop(['Page Text', 'text', 'text11', 'text12', 'text13','textstemmed'], axis=1, inplace=True)"
   ]
  },
  {
   "cell_type": "code",
   "execution_count": 17,
   "id": "cfc818c4",
   "metadata": {},
   "outputs": [
    {
     "data": {
      "text/html": [
       "<div>\n",
       "<style scoped>\n",
       "    .dataframe tbody tr th:only-of-type {\n",
       "        vertical-align: middle;\n",
       "    }\n",
       "\n",
       "    .dataframe tbody tr th {\n",
       "        vertical-align: top;\n",
       "    }\n",
       "\n",
       "    .dataframe thead th {\n",
       "        text-align: right;\n",
       "    }\n",
       "</style>\n",
       "<table border=\"1\" class=\"dataframe\">\n",
       "  <thead>\n",
       "    <tr style=\"text-align: right;\">\n",
       "      <th></th>\n",
       "      <th>text_lemmatized</th>\n",
       "      <th>Category</th>\n",
       "    </tr>\n",
       "  </thead>\n",
       "  <tbody>\n",
       "    <tr>\n",
       "      <th>1855</th>\n",
       "      <td>homeless condit lack stabl safe adequ hous def...</td>\n",
       "      <td>3</td>\n",
       "    </tr>\n",
       "    <tr>\n",
       "      <th>4399</th>\n",
       "      <td>medusa snail note biolog watcher 1979 collect ...</td>\n",
       "      <td>1</td>\n",
       "    </tr>\n",
       "    <tr>\n",
       "      <th>2414</th>\n",
       "      <td>milwauke wisconsin histori 160 year immigr of ...</td>\n",
       "      <td>4</td>\n",
       "    </tr>\n",
       "    <tr>\n",
       "      <th>3179</th>\n",
       "      <td>vancouv institut medium art vanart privat post...</td>\n",
       "      <td>0</td>\n",
       "    </tr>\n",
       "    <tr>\n",
       "      <th>3159</th>\n",
       "      <td>art busi charit organis whose role develop par...</td>\n",
       "      <td>0</td>\n",
       "    </tr>\n",
       "  </tbody>\n",
       "</table>\n",
       "</div>"
      ],
      "text/plain": [
       "                                        text_lemmatized  Category\n",
       "1855  homeless condit lack stabl safe adequ hous def...         3\n",
       "4399  medusa snail note biolog watcher 1979 collect ...         1\n",
       "2414  milwauke wisconsin histori 160 year immigr of ...         4\n",
       "3179  vancouv institut medium art vanart privat post...         0\n",
       "3159  art busi charit organis whose role develop par...         0"
      ]
     },
     "execution_count": 17,
     "metadata": {},
     "output_type": "execute_result"
    }
   ],
   "source": [
    "train = train_X.join(train_y)\n",
    "train.head()"
   ]
  },
  {
   "cell_type": "code",
   "execution_count": 18,
   "id": "fd9b151b",
   "metadata": {},
   "outputs": [
    {
     "name": "stderr",
     "output_type": "stream",
     "text": [
      "C:\\Users\\vedan\\anaconda3\\lib\\site-packages\\seaborn\\_decorators.py:36: FutureWarning: Pass the following variables as keyword args: x, y. From version 0.12, the only valid positional argument will be `data`, and passing other arguments without an explicit keyword will result in an error or misinterpretation.\n",
      "  warnings.warn(\n"
     ]
    },
    {
     "data": {
      "text/plain": [
       "<AxesSubplot:ylabel='Category'>"
      ]
     },
     "execution_count": 18,
     "metadata": {},
     "output_type": "execute_result"
    },
    {
     "data": {
      "image/png": "[encoded data removed]",
      "text/plain": [
       "<Figure size 576x288 with 1 Axes>"
      ]
     },
     "metadata": {
      "needs_background": "light"
     },
     "output_type": "display_data"
    }
   ],
   "source": [
    "plt.figure(figsize=(8,4))\n",
    "sns.barplot(train['Category'].value_counts().index, train['Category'].value_counts())"
   ]
  },
  {
   "cell_type": "code",
   "execution_count": 19,
   "id": "83bee197",
   "metadata": {},
   "outputs": [],
   "source": [
    "from sklearn.feature_extraction.text import CountVectorizer\n",
    "bow = CountVectorizer(max_features=3500)"
   ]
  },
  {
   "cell_type": "code",
   "execution_count": 20,
   "id": "a525c253",
   "metadata": {},
   "outputs": [
    {
     "data": {
      "text/plain": [
       "array([[5, 3, 3, ..., 7, 0, 1],\n",
       "       [0, 0, 0, ..., 0, 0, 0],\n",
       "       [0, 0, 0, ..., 0, 0, 0],\n",
       "       ...,\n",
       "       [0, 0, 0, ..., 0, 0, 0],\n",
       "       [0, 0, 0, ..., 0, 0, 0],\n",
       "       [4, 3, 0, ..., 2, 0, 2]], dtype=int64)"
      ]
     },
     "execution_count": 20,
     "metadata": {},
     "output_type": "execute_result"
    }
   ],
   "source": [
    "train_vector = bow.fit_transform(train_X['text_lemmatized']).toarray()\n",
    "train_vector"
   ]
  },
  {
   "cell_type": "code",
   "execution_count": 21,
   "id": "3895084e",
   "metadata": {},
   "outputs": [],
   "source": [
    "def preprocessing(df):\n",
    "    df['msg_lower'] = df['Page Text'].str.lower()\n",
    "    df[\"msg_wo_url\"] = df[\"msg_lower\"].apply(lambda text: remove_urls(text))\n",
    "    df['msg_wo_stopword'] = df['msg_wo_url'].apply(lambda text :remove_stopwords(text))\n",
    "    df['msg_wo_punc'] = df['msg_wo_stopword'].apply(lambda text: remove_punctuation(text))\n",
    "    df[\"text_lemmatized\"] = df[\"msg_wo_punc\"].apply(lambda text: lemmatize_words(text))\n",
    "    df.drop(['Page Text', 'msg_lower', 'msg_wo_url', 'msg_wo_stopword', 'msg_wo_punc'], axis=1, inplace=True)\n",
    "    return df"
   ]
  },
  {
   "cell_type": "code",
   "execution_count": 22,
   "id": "d6093a7d",
   "metadata": {
    "scrolled": true
   },
   "outputs": [
    {
     "name": "stderr",
     "output_type": "stream",
     "text": [
      "<ipython-input-21-9effca36fd2b>:2: SettingWithCopyWarning: \n",
      "A value is trying to be set on a copy of a slice from a DataFrame.\n",
      "Try using .loc[row_indexer,col_indexer] = value instead\n",
      "\n",
      "See the caveats in the documentation: https://pandas.pydata.org/pandas-docs/stable/user_guide/indexing.html#returning-a-view-versus-a-copy\n",
      "  df['msg_lower'] = df['Page Text'].str.lower()\n",
      "<ipython-input-21-9effca36fd2b>:3: SettingWithCopyWarning: \n",
      "A value is trying to be set on a copy of a slice from a DataFrame.\n",
      "Try using .loc[row_indexer,col_indexer] = value instead\n",
      "\n",
      "See the caveats in the documentation: https://pandas.pydata.org/pandas-docs/stable/user_guide/indexing.html#returning-a-view-versus-a-copy\n",
      "  df[\"msg_wo_url\"] = df[\"msg_lower\"].apply(lambda text: remove_urls(text))\n",
      "<ipython-input-21-9effca36fd2b>:4: SettingWithCopyWarning: \n",
      "A value is trying to be set on a copy of a slice from a DataFrame.\n",
      "Try using .loc[row_indexer,col_indexer] = value instead\n",
      "\n",
      "See the caveats in the documentation: https://pandas.pydata.org/pandas-docs/stable/user_guide/indexing.html#returning-a-view-versus-a-copy\n",
      "  df['msg_wo_stopword'] = df['msg_wo_url'].apply(lambda text :remove_stopwords(text))\n",
      "<ipython-input-21-9effca36fd2b>:5: SettingWithCopyWarning: \n",
      "A value is trying to be set on a copy of a slice from a DataFrame.\n",
      "Try using .loc[row_indexer,col_indexer] = value instead\n",
      "\n",
      "See the caveats in the documentation: https://pandas.pydata.org/pandas-docs/stable/user_guide/indexing.html#returning-a-view-versus-a-copy\n",
      "  df['msg_wo_punc'] = df['msg_wo_stopword'].apply(lambda text: remove_punctuation(text))\n",
      "<ipython-input-21-9effca36fd2b>:6: SettingWithCopyWarning: \n",
      "A value is trying to be set on a copy of a slice from a DataFrame.\n",
      "Try using .loc[row_indexer,col_indexer] = value instead\n",
      "\n",
      "See the caveats in the documentation: https://pandas.pydata.org/pandas-docs/stable/user_guide/indexing.html#returning-a-view-versus-a-copy\n",
      "  df[\"text_lemmatized\"] = df[\"msg_wo_punc\"].apply(lambda text: lemmatize_words(text))\n",
      "C:\\Users\\vedan\\anaconda3\\lib\\site-packages\\pandas\\core\\frame.py:4308: SettingWithCopyWarning: \n",
      "A value is trying to be set on a copy of a slice from a DataFrame\n",
      "\n",
      "See the caveats in the documentation: https://pandas.pydata.org/pandas-docs/stable/user_guide/indexing.html#returning-a-view-versus-a-copy\n",
      "  return super().drop(\n"
     ]
    },
    {
     "name": "stdout",
     "output_type": "stream",
     "text": [
      "(600, 1)\n"
     ]
    },
    {
     "data": {
      "text/plain": [
       "array([[ 0,  0,  0, ...,  0,  0,  0],\n",
       "       [ 0,  0,  0, ...,  0,  0,  0],\n",
       "       [ 0,  0,  0, ...,  0,  0,  0],\n",
       "       ...,\n",
       "       [ 2,  2,  2, ...,  0,  0, 12],\n",
       "       [ 0,  2,  0, ...,  0,  0,  0],\n",
       "       [ 0,  0,  0, ...,  0,  0,  0]], dtype=int64)"
      ]
     },
     "execution_count": 22,
     "metadata": {},
     "output_type": "execute_result"
    }
   ],
   "source": [
    "val_X = preprocessing(val_X)\n",
    "print(val_X.shape)\n",
    "val_vector = bow.transform(val_X['text_lemmatized']).toarray()\n",
    "val_vector"
   ]
  },
  {
   "cell_type": "code",
   "execution_count": 23,
   "id": "d41fc05e",
   "metadata": {},
   "outputs": [
    {
     "name": "stderr",
     "output_type": "stream",
     "text": [
      "<ipython-input-21-9effca36fd2b>:2: SettingWithCopyWarning: \n",
      "A value is trying to be set on a copy of a slice from a DataFrame.\n",
      "Try using .loc[row_indexer,col_indexer] = value instead\n",
      "\n",
      "See the caveats in the documentation: https://pandas.pydata.org/pandas-docs/stable/user_guide/indexing.html#returning-a-view-versus-a-copy\n",
      "  df['msg_lower'] = df['Page Text'].str.lower()\n",
      "<ipython-input-21-9effca36fd2b>:3: SettingWithCopyWarning: \n",
      "A value is trying to be set on a copy of a slice from a DataFrame.\n",
      "Try using .loc[row_indexer,col_indexer] = value instead\n",
      "\n",
      "See the caveats in the documentation: https://pandas.pydata.org/pandas-docs/stable/user_guide/indexing.html#returning-a-view-versus-a-copy\n",
      "  df[\"msg_wo_url\"] = df[\"msg_lower\"].apply(lambda text: remove_urls(text))\n",
      "<ipython-input-21-9effca36fd2b>:4: SettingWithCopyWarning: \n",
      "A value is trying to be set on a copy of a slice from a DataFrame.\n",
      "Try using .loc[row_indexer,col_indexer] = value instead\n",
      "\n",
      "See the caveats in the documentation: https://pandas.pydata.org/pandas-docs/stable/user_guide/indexing.html#returning-a-view-versus-a-copy\n",
      "  df['msg_wo_stopword'] = df['msg_wo_url'].apply(lambda text :remove_stopwords(text))\n",
      "<ipython-input-21-9effca36fd2b>:5: SettingWithCopyWarning: \n",
      "A value is trying to be set on a copy of a slice from a DataFrame.\n",
      "Try using .loc[row_indexer,col_indexer] = value instead\n",
      "\n",
      "See the caveats in the documentation: https://pandas.pydata.org/pandas-docs/stable/user_guide/indexing.html#returning-a-view-versus-a-copy\n",
      "  df['msg_wo_punc'] = df['msg_wo_stopword'].apply(lambda text: remove_punctuation(text))\n",
      "<ipython-input-21-9effca36fd2b>:6: SettingWithCopyWarning: \n",
      "A value is trying to be set on a copy of a slice from a DataFrame.\n",
      "Try using .loc[row_indexer,col_indexer] = value instead\n",
      "\n",
      "See the caveats in the documentation: https://pandas.pydata.org/pandas-docs/stable/user_guide/indexing.html#returning-a-view-versus-a-copy\n",
      "  df[\"text_lemmatized\"] = df[\"msg_wo_punc\"].apply(lambda text: lemmatize_words(text))\n"
     ]
    },
    {
     "name": "stdout",
     "output_type": "stream",
     "text": [
      "(1000, 1)\n"
     ]
    },
    {
     "data": {
      "text/plain": [
       "array([[1, 0, 0, ..., 0, 0, 0],\n",
       "       [0, 0, 0, ..., 0, 0, 0],\n",
       "       [1, 0, 0, ..., 0, 0, 0],\n",
       "       ...,\n",
       "       [0, 0, 0, ..., 0, 0, 0],\n",
       "       [0, 0, 0, ..., 0, 0, 0],\n",
       "       [0, 2, 0, ..., 0, 0, 0]], dtype=int64)"
      ]
     },
     "execution_count": 23,
     "metadata": {},
     "output_type": "execute_result"
    }
   ],
   "source": [
    "text_X= preprocessing(test_X)\n",
    "print(test_X.shape)\n",
    "test_vector = bow.transform(test_X['text_lemmatized']).toarray()\n",
    "test_vector"
   ]
  },
  {
   "cell_type": "code",
   "execution_count": 53,
   "id": "f2188ea8",
   "metadata": {},
   "outputs": [],
   "source": [
    "from sklearn.naive_bayes import MultinomialNB\n",
    "\n",
    "nb = MultinomialNB().fit(train_vector,train_y)"
   ]
  },
  {
   "cell_type": "code",
   "execution_count": 54,
   "id": "a2ee81f5",
   "metadata": {},
   "outputs": [
    {
     "name": "stdout",
     "output_type": "stream",
     "text": [
      "accuracy is  0.7683333333333333\n"
     ]
    },
    {
     "data": {
      "text/plain": [
       "<AxesSubplot:>"
      ]
     },
     "execution_count": 54,
     "metadata": {},
     "output_type": "execute_result"
    },
    {
     "data": {
      "image/png": "[encoded data removed]",
      "text/plain": [
       "<Figure size 432x288 with 2 Axes>"
      ]
     },
     "metadata": {
      "needs_background": "light"
     },
     "output_type": "display_data"
    }
   ],
   "source": [
    "import seaborn as sns\n",
    "from sklearn.metrics import precision_score, recall_score\n",
    "from sklearn.metrics import accuracy_score\n",
    "from sklearn.metrics import f1_score\n",
    "from sklearn.metrics import confusion_matrix\n",
    "\n",
    "\n",
    "val_pred_nb = nb.predict(val_vector)\n",
    "print (\"accuracy is \"  ,accuracy_score(val_y,val_pred_nb))\n",
    "cm=confusion_matrix(val_y,val_pred_nb)\n",
    "sns.heatmap(cm,cmap='BuPu',annot=True,fmt='d')\n",
    "\n",
    "\n"
   ]
  },
  {
   "cell_type": "code",
   "execution_count": 62,
   "id": "f0e09d17",
   "metadata": {},
   "outputs": [
    {
     "name": "stdout",
     "output_type": "stream",
     "text": [
      "accuracy is  0.766\n",
      "recall is  [0.9  0.75 0.75 0.87 0.65 0.72 0.77 0.97 0.47 0.81]\n",
      "precision is  [0.56962025 0.82417582 0.87209302 0.82075472 0.65656566 0.85714286\n",
      " 0.89534884 0.7578125  0.71212121 0.84375   ]\n"
     ]
    },
    {
     "data": {
      "image/png": "[encoded data removed]",
      "text/plain": [
       "<Figure size 432x288 with 2 Axes>"
      ]
     },
     "metadata": {
      "needs_background": "light"
     },
     "output_type": "display_data"
    }
   ],
   "source": [
    "test_pred_nb = nb.predict(test_vector)\n",
    "print (\"accuracy is \" ,accuracy_score(test_y,test_pred_nb))\n",
    "\n",
    "\n",
    "cm = confusion_matrix(test_y,test_pred_nb)\n",
    "sns.heatmap(cm,cmap='BuPu',annot=True,fmt='d')\n",
    "recalls = np.diag(cm) / np.sum(cm, axis = 1)\n",
    "print (\"recall is \" ,recalls)\n",
    "precision = np.diag(cm) / np.sum(cm, axis = 0)\n",
    "print (\"precision is \" ,precision)"
   ]
  },
  {
   "cell_type": "code",
   "execution_count": 56,
   "id": "b2fdf37a",
   "metadata": {},
   "outputs": [],
   "source": [
    "from sklearn.ensemble import RandomForestClassifier\n",
    "\n",
    "rfc = RandomForestClassifier(random_state=0).fit(train_vector,train_y)"
   ]
  },
  {
   "cell_type": "code",
   "execution_count": 57,
   "id": "870b221c",
   "metadata": {},
   "outputs": [
    {
     "name": "stdout",
     "output_type": "stream",
     "text": [
      "accuracy is  0.7483333333333333\n"
     ]
    },
    {
     "data": {
      "text/plain": [
       "<AxesSubplot:>"
      ]
     },
     "execution_count": 57,
     "metadata": {},
     "output_type": "execute_result"
    },
    {
     "data": {
      "image/png": "[encoded data removed]",
      "text/plain": [
       "<Figure size 432x288 with 2 Axes>"
      ]
     },
     "metadata": {
      "needs_background": "light"
     },
     "output_type": "display_data"
    }
   ],
   "source": [
    "val_pred_rfc = rfc.predict(val_vector)\n",
    "print (\"accuracy is \" ,accuracy_score(val_y,val_pred_rfc))\n",
    "cm=confusion_matrix(val_y,val_pred_rfc)\n",
    "sns.heatmap(cm,cmap='BuPu',annot=True,fmt='d')\n",
    "\n"
   ]
  },
  {
   "cell_type": "code",
   "execution_count": 63,
   "id": "4db4ab8e",
   "metadata": {},
   "outputs": [
    {
     "name": "stdout",
     "output_type": "stream",
     "text": [
      "accuracy is  0.735\n",
      "recall is  [0.96 0.82 0.73 0.96 0.52 0.8  0.54 0.98 0.1  0.94]\n",
      "precision is  [0.5106383  0.7961165  0.81111111 0.71641791 0.65822785 0.94117647\n",
      " 0.98181818 0.73684211 0.90909091 0.7704918 ]\n"
     ]
    },
    {
     "data": {
      "image/png": "[encoded data removed]",
      "text/plain": [
       "<Figure size 432x288 with 2 Axes>"
      ]
     },
     "metadata": {
      "needs_background": "light"
     },
     "output_type": "display_data"
    }
   ],
   "source": [
    "test_pred_rfc = rfc.predict(test_vector)\n",
    "print (\"accuracy is \" ,accuracy_score(test_y,test_pred_rfc))\n",
    "cm = confusion_matrix(test_y,test_pred_rfc)\n",
    "sns.heatmap(cm,cmap='BuPu',annot=True,fmt='d')\n",
    "recalls = np.diag(cm) / np.sum(cm, axis = 1)\n",
    "print (\"recall is \" ,recalls)\n",
    "precision = np.diag(cm) / np.sum(cm, axis = 0)\n",
    "print (\"precision is \" ,precision)"
   ]
  },
  {
   "cell_type": "code",
   "execution_count": 59,
   "id": "2d932a9b",
   "metadata": {},
   "outputs": [
    {
     "name": "stderr",
     "output_type": "stream",
     "text": [
      "C:\\Users\\vedan\\anaconda3\\lib\\site-packages\\sklearn\\linear_model\\_logistic.py:763: ConvergenceWarning: lbfgs failed to converge (status=1):\n",
      "STOP: TOTAL NO. of ITERATIONS REACHED LIMIT.\n",
      "\n",
      "Increase the number of iterations (max_iter) or scale the data as shown in:\n",
      "    https://scikit-learn.org/stable/modules/preprocessing.html\n",
      "Please also refer to the documentation for alternative solver options:\n",
      "    https://scikit-learn.org/stable/modules/linear_model.html#logistic-regression\n",
      "  n_iter_i = _check_optimize_result(\n"
     ]
    }
   ],
   "source": [
    "from sklearn.linear_model import LogisticRegression\n",
    "\n",
    "lrc = LogisticRegression().fit(train_vector,train_y)"
   ]
  },
  {
   "cell_type": "code",
   "execution_count": 60,
   "id": "c6de4274",
   "metadata": {},
   "outputs": [
    {
     "name": "stdout",
     "output_type": "stream",
     "text": [
      "accuracy is  0.7683333333333333\n"
     ]
    },
    {
     "data": {
      "text/plain": [
       "<AxesSubplot:>"
      ]
     },
     "execution_count": 60,
     "metadata": {},
     "output_type": "execute_result"
    },
    {
     "data": {
      "image/png": "[encoded data removed]",
      "text/plain": [
       "<Figure size 432x288 with 2 Axes>"
      ]
     },
     "metadata": {
      "needs_background": "light"
     },
     "output_type": "display_data"
    }
   ],
   "source": [
    "val_pred_lrc = lrc.predict(val_vector)\n",
    "print (\"accuracy is \" ,accuracy_score(val_y,val_pred_nb))\n",
    "cm=confusion_matrix(val_y,val_pred_lrc)\n",
    "sns.heatmap(cm,cmap='BuPu',annot=True,fmt='d')\n"
   ]
  },
  {
   "cell_type": "code",
   "execution_count": 64,
   "id": "4ddb66c7",
   "metadata": {},
   "outputs": [
    {
     "name": "stdout",
     "output_type": "stream",
     "text": [
      "accuracy is  0.698\n",
      "recall is  [0.99 0.68 0.79 0.97 0.56 0.58 0.31 0.98 0.2  0.92]\n",
      "precision is  [0.50769231 0.71578947 0.56834532 0.776      0.59574468 0.85294118\n",
      " 0.775      0.85964912 0.8        0.87619048]\n"
     ]
    },
    {
     "data": {
      "image/png": "[encoded data removed]",
      "text/plain": [
       "<Figure size 432x288 with 2 Axes>"
      ]
     },
     "metadata": {
      "needs_background": "light"
     },
     "output_type": "display_data"
    }
   ],
   "source": [
    "test_pred_lrc = lrc.predict(test_vector)\n",
    "print (\"accuracy is \" ,accuracy_score(test_y,test_pred_lrc))\n",
    "\n",
    "cm = confusion_matrix(test_y,test_pred_lrc)\n",
    "sns.heatmap(cm,cmap='BuPu',annot=True,fmt='d')\n",
    "recalls = np.diag(cm) / np.sum(cm, axis = 1)\n",
    "print (\"recall is \" ,recalls)\n",
    "precision = np.diag(cm) / np.sum(cm, axis = 0)\n",
    "print (\"precision is \" ,precision)"
   ]
  },
  {
   "cell_type": "code",
   "execution_count": null,
   "id": "f233b465",
   "metadata": {},
   "outputs": [],
   "source": []
  }
 ],
 "metadata": {
  "kernelspec": {
   "display_name": "Python 3",
   "language": "python",
   "name": "python3"
  },
  "language_info": {
   "codemirror_mode": {
    "name": "ipython",
    "version": 3
   },
   "file_extension": ".py",
   "mimetype": "text/x-python",
   "name": "python",
   "nbconvert_exporter": "python",
   "pygments_lexer": "ipython3",
   "version": "3.8.8"
  }
 },
 "nbformat": 4,
 "nbformat_minor": 5
}
